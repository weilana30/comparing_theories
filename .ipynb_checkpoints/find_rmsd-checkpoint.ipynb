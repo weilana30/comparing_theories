{
 "cells": [
  {
   "cell_type": "code",
   "execution_count": 4,
   "id": "101b1022-8685-4706-97f1-b13d6e430157",
   "metadata": {},
   "outputs": [
    {
     "ename": "ImportError",
     "evalue": "cannot import name 'rmsd' from 'ase.geometry.analysis' (/jet/home/aweiland/.local/lib/python3.12/site-packages/ase/geometry/analysis.py)",
     "output_type": "error",
     "traceback": [
      "\u001b[0;31m---------------------------------------------------------------------------\u001b[0m",
      "\u001b[0;31mImportError\u001b[0m                               Traceback (most recent call last)",
      "Cell \u001b[0;32mIn[4], line 1\u001b[0m\n\u001b[0;32m----> 1\u001b[0m \u001b[38;5;28;01mfrom\u001b[39;00m \u001b[38;5;21;01mase\u001b[39;00m\u001b[38;5;21;01m.\u001b[39;00m\u001b[38;5;21;01mgeometry\u001b[39;00m\u001b[38;5;21;01m.\u001b[39;00m\u001b[38;5;21;01manalysis\u001b[39;00m \u001b[38;5;28;01mimport\u001b[39;00m rmsd \u001b[38;5;28;01mas\u001b[39;00m calc_rmsd\n",
      "\u001b[0;31mImportError\u001b[0m: cannot import name 'rmsd' from 'ase.geometry.analysis' (/jet/home/aweiland/.local/lib/python3.12/site-packages/ase/geometry/analysis.py)"
     ]
    }
   ],
   "source": [
    "from ase.geometry.analysis import rmsd as calc_rmsd\n"
   ]
  },
  {
   "cell_type": "code",
   "execution_count": 7,
   "id": "cbd81360-bfb6-48ef-ba0b-7b7cebb98768",
   "metadata": {},
   "outputs": [],
   "source": [
    "from ase.io import read\n",
    "mol1 = read(\"/jet/home/aweiland/comparing_methods/test_aimnet.xyz\")\n",
    "mol2 = read(\"/jet/home/aweiland/comparing_methods/test_xtb.xyz\")\n",
    "\n"
   ]
  },
  {
   "cell_type": "code",
   "execution_count": 13,
   "id": "496bbc16-a9f3-4317-983f-07fe3e1c216d",
   "metadata": {},
   "outputs": [],
   "source": [
    "pos1 = mol1.get_positions()\n",
    "pos2 = mol2.get_positions()"
   ]
  },
  {
   "cell_type": "code",
   "execution_count": 18,
   "id": "b539e78c-40a6-4b45-a05e-c0dc8714d8b7",
   "metadata": {},
   "outputs": [],
   "source": [
    "rmsd = compute_rmsd(pos1, pos2)"
   ]
  },
  {
   "cell_type": "code",
   "execution_count": 17,
   "id": "f4ca7695-7cc8-4313-ab95-21e373820b7d",
   "metadata": {},
   "outputs": [],
   "source": [
    "import numpy as np\n",
    "def compute_rmsd(coords1, coords2):\n",
    "    \"\"\"Compute RMSD between two sets of coordinates.\"\"\"\n",
    "    coords1 = np.array(coords1)\n",
    "    coords2 = np.array(coords2)\n",
    "    if coords1.shape != coords2.shape:\n",
    "        raise ValueError(\"Coordinate arrays must have the same shape.\")\n",
    "    diff = coords1 - coords2\n",
    "    return np.sqrt((diff ** 2).sum() / len(coords1))\n"
   ]
  },
  {
   "cell_type": "code",
   "execution_count": 19,
   "id": "a3ef3d8e-775b-4bc9-af3b-ffd88669ecbf",
   "metadata": {},
   "outputs": [
    {
     "name": "stdout",
     "output_type": "stream",
     "text": [
      "0.29220898899588976\n"
     ]
    }
   ],
   "source": [
    "print(rmsd)"
   ]
  }
 ],
 "metadata": {
  "kernelspec": {
   "display_name": "Python 3 (ipykernel)",
   "language": "python",
   "name": "python3"
  },
  "language_info": {
   "codemirror_mode": {
    "name": "ipython",
    "version": 3
   },
   "file_extension": ".py",
   "mimetype": "text/x-python",
   "name": "python",
   "nbconvert_exporter": "python",
   "pygments_lexer": "ipython3",
   "version": "3.12.7"
  }
 },
 "nbformat": 4,
 "nbformat_minor": 5
}
