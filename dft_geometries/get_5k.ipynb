{
 "cells": [
  {
   "cell_type": "code",
   "execution_count": 2,
   "id": "f3baf66d-544b-4b60-8164-036ad88edfc1",
   "metadata": {},
   "outputs": [
    {
     "data": {
      "text/html": [
       "<div>\n",
       "<style scoped>\n",
       "    .dataframe tbody tr th:only-of-type {\n",
       "        vertical-align: middle;\n",
       "    }\n",
       "\n",
       "    .dataframe tbody tr th {\n",
       "        vertical-align: top;\n",
       "    }\n",
       "\n",
       "    .dataframe thead th {\n",
       "        text-align: right;\n",
       "    }\n",
       "</style>\n",
       "<table border=\"1\" class=\"dataframe\">\n",
       "  <thead>\n",
       "    <tr style=\"text-align: right;\">\n",
       "      <th></th>\n",
       "      <th>Unnamed: 0</th>\n",
       "      <th>mol_id</th>\n",
       "      <th>atom_index</th>\n",
       "      <th>Shift</th>\n",
       "      <th>atom_type</th>\n",
       "    </tr>\n",
       "  </thead>\n",
       "  <tbody>\n",
       "    <tr>\n",
       "      <th>0</th>\n",
       "      <td>0</td>\n",
       "      <td>2192</td>\n",
       "      <td>0</td>\n",
       "      <td>108.4</td>\n",
       "      <td>6</td>\n",
       "    </tr>\n",
       "    <tr>\n",
       "      <th>1</th>\n",
       "      <td>1</td>\n",
       "      <td>2192</td>\n",
       "      <td>1</td>\n",
       "      <td>159.8</td>\n",
       "      <td>6</td>\n",
       "    </tr>\n",
       "    <tr>\n",
       "      <th>2</th>\n",
       "      <td>2</td>\n",
       "      <td>2192</td>\n",
       "      <td>2</td>\n",
       "      <td>109.4</td>\n",
       "      <td>6</td>\n",
       "    </tr>\n",
       "    <tr>\n",
       "      <th>3</th>\n",
       "      <td>3</td>\n",
       "      <td>2192</td>\n",
       "      <td>3</td>\n",
       "      <td>8.1</td>\n",
       "      <td>6</td>\n",
       "    </tr>\n",
       "    <tr>\n",
       "      <th>4</th>\n",
       "      <td>4</td>\n",
       "      <td>2192</td>\n",
       "      <td>4</td>\n",
       "      <td>159.8</td>\n",
       "      <td>6</td>\n",
       "    </tr>\n",
       "  </tbody>\n",
       "</table>\n",
       "</div>"
      ],
      "text/plain": [
       "   Unnamed: 0  mol_id  atom_index  Shift  atom_type\n",
       "0           0    2192           0  108.4          6\n",
       "1           1    2192           1  159.8          6\n",
       "2           2    2192           2  109.4          6\n",
       "3           3    2192           3    8.1          6\n",
       "4           4    2192           4  159.8          6"
      ]
     },
     "execution_count": 2,
     "metadata": {},
     "output_type": "execute_result"
    }
   ],
   "source": [
    "import pandas as pd\n",
    "\n",
    "fivek = pd.read_csv(\"/home/aweiland/comparing_theories/dft_geometries/Exp5K.csv\")\n",
    "fivek.head()\n"
   ]
  },
  {
   "cell_type": "code",
   "execution_count": 4,
   "id": "e62d9138-88b6-4c58-9bb8-d79379c305ec",
   "metadata": {},
   "outputs": [
    {
     "data": {
      "text/plain": [
       "(53331, 5)"
      ]
     },
     "execution_count": 4,
     "metadata": {},
     "output_type": "execute_result"
    }
   ],
   "source": [
    "fivek.shape"
   ]
  },
  {
   "cell_type": "code",
   "execution_count": 6,
   "id": "9048216d-7d60-4211-82ff-d371aca57323",
   "metadata": {},
   "outputs": [
    {
     "data": {
      "text/plain": [
       "(5147, 5)"
      ]
     },
     "execution_count": 6,
     "metadata": {},
     "output_type": "execute_result"
    }
   ],
   "source": [
    "df_cleaned = fivek.drop_duplicates(subset=['mol_id'], keep='first')\n",
    "df_cleaned.shape"
   ]
  },
  {
   "cell_type": "code",
   "execution_count": 7,
   "id": "0883a023-15e4-4044-9a00-3cba0235ca0e",
   "metadata": {},
   "outputs": [],
   "source": [
    "df_cleaned.to_csv(\"5k_mol_ids.csv\")"
   ]
  },
  {
   "cell_type": "code",
   "execution_count": 15,
   "id": "e186dbcb-d329-473d-892b-1c5f12db8e46",
   "metadata": {},
   "outputs": [
    {
     "name": "stdout",
     "output_type": "stream",
     "text": [
      "20129\n",
      "75020\n",
      "75022\n",
      "75353\n",
      "76061\n",
      "76471\n",
      "30000162\n",
      "30001653\n"
     ]
    }
   ],
   "source": [
    "import shutil\n",
    "import os\n",
    "\n",
    "all_mols_path = \"/home/aweiland/comparing_theories/dft_geometries/dft_xyz_files\"\n",
    "fivek_mols = \"/home/aweiland/comparing_theories/dft_geometries/5k_mols\"\n",
    "\n",
    "\n",
    "for _, row in df_cleaned.iterrows():\n",
    "    mol_id = str(int(float(row[\"mol_id\"])))\n",
    "\n",
    "    xyz_file = os.path.join(all_mols_path, \"dft_\" + mol_id + \".xyz\")\n",
    "    \n",
    "    try:\n",
    "        shutil.copy(xyz_file, fivek_mols)\n",
    "    except:\n",
    "        print(mol_id)\n",
    "        continue"
   ]
  },
  {
   "cell_type": "code",
   "execution_count": null,
   "id": "f5ef19be-1729-4ced-8786-dd081d0aa2ef",
   "metadata": {},
   "outputs": [],
   "source": []
  }
 ],
 "metadata": {
  "kernelspec": {
   "display_name": "Python 3",
   "language": "python",
   "name": "python3"
  },
  "language_info": {
   "codemirror_mode": {
    "name": "ipython",
    "version": 3
   },
   "file_extension": ".py",
   "mimetype": "text/x-python",
   "name": "python",
   "nbconvert_exporter": "python",
   "pygments_lexer": "ipython3",
   "version": "3.8.8"
  }
 },
 "nbformat": 4,
 "nbformat_minor": 5
}
