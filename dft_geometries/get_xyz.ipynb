{
 "cells": [
  {
   "cell_type": "markdown",
   "id": "76b29e0a-f39b-4d57-b873-e7782c134630",
   "metadata": {},
   "source": [
    "Converts dft sdf files into xyz"
   ]
  },
  {
   "cell_type": "code",
   "execution_count": 1,
   "id": "4226b405-4105-4522-9ca5-a325a6f06422",
   "metadata": {},
   "outputs": [],
   "source": [
    "import os\n",
    "path = \"/home/aweiland/comparing_theories/dft_geometries/DFT.sdf\"\n",
    "original_file = os.path.abspath(path)"
   ]
  },
  {
   "cell_type": "code",
   "execution_count": 4,
   "id": "8decc5c0-6578-49f1-8c4f-da27c5fdea45",
   "metadata": {},
   "outputs": [
    {
     "ename": "StopIteration",
     "evalue": "",
     "output_type": "error",
     "traceback": [
      "\u001b[0;31m---------------------------------------------------------------------------\u001b[0m",
      "\u001b[0;31mStopIteration\u001b[0m                             Traceback (most recent call last)",
      "\u001b[0;32m<ipython-input-4-128ac3c69a16>\u001b[0m in \u001b[0;36m<module>\u001b[0;34m\u001b[0m\n\u001b[1;32m     14\u001b[0m                 \u001b[0mfirst_file\u001b[0m \u001b[0;34m=\u001b[0m \u001b[0;32mFalse\u001b[0m\u001b[0;34m\u001b[0m\u001b[0;34m\u001b[0m\u001b[0m\n\u001b[1;32m     15\u001b[0m             \u001b[0;32melse\u001b[0m\u001b[0;34m:\u001b[0m\u001b[0;34m\u001b[0m\u001b[0;34m\u001b[0m\u001b[0m\n\u001b[0;32m---> 16\u001b[0;31m                 \u001b[0mname\u001b[0m \u001b[0;34m=\u001b[0m \u001b[0mnext\u001b[0m\u001b[0;34m(\u001b[0m\u001b[0mf\u001b[0m\u001b[0;34m)\u001b[0m\u001b[0;34m.\u001b[0m\u001b[0mstrip\u001b[0m\u001b[0;34m(\u001b[0m\u001b[0;34m)\u001b[0m\u001b[0;34m\u001b[0m\u001b[0;34m\u001b[0m\u001b[0m\n\u001b[0m\u001b[1;32m     17\u001b[0m             \u001b[0mnext\u001b[0m\u001b[0;34m(\u001b[0m\u001b[0mf\u001b[0m\u001b[0;34m)\u001b[0m\u001b[0;34m\u001b[0m\u001b[0;34m\u001b[0m\u001b[0m\n\u001b[1;32m     18\u001b[0m             \u001b[0mnext\u001b[0m\u001b[0;34m(\u001b[0m\u001b[0mf\u001b[0m\u001b[0;34m)\u001b[0m\u001b[0;34m\u001b[0m\u001b[0;34m\u001b[0m\u001b[0m\n",
      "\u001b[0;31mStopIteration\u001b[0m: "
     ]
    }
   ],
   "source": [
    "with open(original_file, \"r\") as f:\n",
    "    line = next(f)\n",
    "    \n",
    "    first_file = True\n",
    "    \n",
    "    output_path = \"/home/aweiland/comparing_theories/dft_geometries/dft_xyz_files\"\n",
    "   \n",
    "    while line is not None:\n",
    "        \n",
    "        if (line.strip() == \"$$$$\") or (first_file):\n",
    "            name = \"\"\n",
    "            if first_file:\n",
    "                name = line.strip()\n",
    "                first_file = False\n",
    "            else:\n",
    "                name = next(f).strip()\n",
    "            next(f)\n",
    "            next(f)\n",
    "            num_atoms = next(f).split()[0]\n",
    "            coords = next(f).split()\n",
    "            #path to current xyz file\n",
    "            \n",
    "            file_name = \"dft_\" + name + \".xyz\"\n",
    "            \n",
    "            file_path = os.path.join(output_path, file_name)\n",
    "            \n",
    "            mol_f = open(file_path, \"a\")\n",
    "            if int(num_atoms) > 100:\n",
    "                print(f\"num atoms: {num_atoms}\")\n",
    "            \n",
    "            mol_f.write(num_atoms + \"\\n\\n\")\n",
    "            while len(coords) == 16:\n",
    "                x = coords[0]\n",
    "                y = coords[1]\n",
    "                z = coords[2]\n",
    "                atom = coords[3]\n",
    "                row = atom + \"   \" + x + \"   \" + y + \"   \" + z + \"\\n\"\n",
    "                mol_f.write(row)\n",
    "            \n",
    "                coords = next(f).split()\n",
    "            mol_f.close()\n",
    "\n",
    "        line = next(f, None)    \n",
    "\n",
    "    id_f.close()\n",
    "    f.close()\n",
    "                "
   ]
  },
  {
   "cell_type": "code",
   "execution_count": null,
   "id": "e10bc8c9-51ac-443e-bdbe-1c680f650404",
   "metadata": {},
   "outputs": [],
   "source": []
  }
 ],
 "metadata": {
  "kernelspec": {
   "display_name": "Python 3",
   "language": "python",
   "name": "python3"
  },
  "language_info": {
   "codemirror_mode": {
    "name": "ipython",
    "version": 3
   },
   "file_extension": ".py",
   "mimetype": "text/x-python",
   "name": "python",
   "nbconvert_exporter": "python",
   "pygments_lexer": "ipython3",
   "version": "3.8.8"
  }
 },
 "nbformat": 4,
 "nbformat_minor": 5
}
