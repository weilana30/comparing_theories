{
 "cells": [
  {
   "cell_type": "code",
   "execution_count": 1,
   "id": "b2e192c8-0004-4463-8d2c-7b6050365632",
   "metadata": {},
   "outputs": [],
   "source": [
    "import os\n",
    "path = \"/home/aweiland/comparing_theories/dft_geometries/DFT.sdf\"\n",
    "original_file = os.path.abspath(path)\n",
    "\n"
   ]
  },
  {
   "cell_type": "code",
   "execution_count": 1,
   "id": "9b9461aa-aa92-4356-8852-eaaa1638bf00",
   "metadata": {},
   "outputs": [
    {
     "ename": "ModuleNotFoundError",
     "evalue": "No module named 'rdkit'",
     "output_type": "error",
     "traceback": [
      "\u001b[31m---------------------------------------------------------------------------\u001b[39m",
      "\u001b[31mModuleNotFoundError\u001b[39m                       Traceback (most recent call last)",
      "\u001b[36mCell\u001b[39m\u001b[36m \u001b[39m\u001b[32mIn[1]\u001b[39m\u001b[32m, line 1\u001b[39m\n\u001b[32m----> \u001b[39m\u001b[32m1\u001b[39m \u001b[38;5;28;01mfrom\u001b[39;00m\u001b[38;5;250m \u001b[39m\u001b[34;01mrdkit\u001b[39;00m\u001b[38;5;250m \u001b[39m\u001b[38;5;28;01mimport\u001b[39;00m Chem\n\u001b[32m      3\u001b[39m supplier = Chem.SDMolSupplier(original_file)\n",
      "\u001b[31mModuleNotFoundError\u001b[39m: No module named 'rdkit'"
     ]
    }
   ],
   "source": [
    "from rdkit import Chem\n",
    "\n",
    "supplier = Chem.SDMolSupplier(original_file)\n"
   ]
  },
  {
   "cell_type": "code",
   "execution_count": null,
   "id": "c276965f-7b1c-4961-8259-1d5e0230233a",
   "metadata": {},
   "outputs": [
    {
     "name": "stdout",
     "output_type": "stream",
     "text": [
      "Collecting package metadata (current_repodata.json): | WARNING conda.models.version:get_matcher(537): Using .* with relational operator is superfluous and deprecated and will be removed in a future version of conda. Your spec was 1.7.1.*, but conda is ignoring the .* and treating it as 1.7.1\n",
      "done\n",
      "Solving environment: - "
     ]
    }
   ],
   "source": [
    "conda install -c conda-forge rdkit\n"
   ]
  },
  {
   "cell_type": "code",
   "execution_count": null,
   "id": "dbcc8250-381e-4528-b58b-56e6eae72420",
   "metadata": {},
   "outputs": [],
   "source": []
  }
 ],
 "metadata": {
  "kernelspec": {
   "display_name": "Python 3",
   "language": "python",
   "name": "python3"
  },
  "language_info": {
   "codemirror_mode": {
    "name": "ipython",
    "version": 3
   },
   "file_extension": ".py",
   "mimetype": "text/x-python",
   "name": "python",
   "nbconvert_exporter": "python",
   "pygments_lexer": "ipython3",
   "version": "3.8.8"
  }
 },
 "nbformat": 4,
 "nbformat_minor": 5
}
