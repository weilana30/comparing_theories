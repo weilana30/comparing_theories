{
 "cells": [
  {
   "cell_type": "code",
   "execution_count": 4,
   "id": "f9197642-b9c5-4d67-869d-3b637ae816c0",
   "metadata": {
    "tags": []
   },
   "outputs": [],
   "source": [
    "import os\n",
    "import shutil\n",
    "from more_itertools import sample\n",
    "from pathlib import Path\n",
    "\n",
    "all_files = Path(\"/home/aweiland/comparing_theories/r2scan-3c/input_files\")\n",
    "\n",
    "\n",
    "\n",
    "output_path = \"/home/aweiland/comparing_theories/r2scan-3c/benchmark_r2/batches/batch_3\"\n",
    "os.mkdir(output_path)\n",
    "\n",
    "\n",
    "\n",
    "random_files = sample(\n",
    "    (p for p in all_files.iterdir() if p.is_file() and not p.name.startswith(\".\")),\n",
    "        34\n",
    ")\n",
    "\n",
    "for path in random_files:\n",
    "    shutil.copy(path, output_path)\n"
   ]
  },
  {
   "cell_type": "code",
   "execution_count": null,
   "id": "e53de74c-5169-4ab1-90cd-73da76045e31",
   "metadata": {},
   "outputs": [],
   "source": []
  }
 ],
 "metadata": {
  "kernelspec": {
   "display_name": "Python 3",
   "language": "python",
   "name": "python3"
  },
  "language_info": {
   "codemirror_mode": {
    "name": "ipython",
    "version": 3
   },
   "file_extension": ".py",
   "mimetype": "text/x-python",
   "name": "python",
   "nbconvert_exporter": "python",
   "pygments_lexer": "ipython3",
   "version": "3.8.8"
  }
 },
 "nbformat": 4,
 "nbformat_minor": 5
}
