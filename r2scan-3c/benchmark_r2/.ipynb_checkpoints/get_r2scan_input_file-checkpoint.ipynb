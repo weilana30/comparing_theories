{
 "cells": [
  {
   "cell_type": "markdown",
   "id": "4b5360b7-0028-40e5-8dbf-b24ac7ad5ef8",
   "metadata": {},
   "source": [
    "# Converts all xyz files into r2scan input files"
   ]
  },
  {
   "cell_type": "code",
   "execution_count": 9,
   "id": "e75654fe-a0c2-46d9-a1c9-01522c96c40d",
   "metadata": {},
   "outputs": [],
   "source": [
    "import os\n",
    "xtb_inputs = \"/home/aweiland/comparing_theories/xTB/final_run/batches\"\n",
    "output_dir = \"/home/aweiland/comparing_theories/r2scan-3c/input_files\"\n",
    "\n",
    "for dirpath, dirnames, files in os.walk(xtb_inputs):\n",
    "    for file in files:\n",
    "        if file.endswith(\".inp\"):\n",
    "            \n",
    "            #id of mol\n",
    "            mol_id = file.strip(\"xtb_\").strip(\".inp\")\n",
    "            \n",
    "            #path of original file\n",
    "            og_path = os.path.join(dirpath, file)\n",
    "            \n",
    "            #opens and reads original file\n",
    "            f = open(og_path, \"r\")\n",
    "            lines = f.readlines()\n",
    "            f.close()\n",
    "            \n",
    "            #changes first line to what we want for r2scan-3c\n",
    "            lines[0] = \"! r2SCAN-3c OPT NUMFREQ\"\n",
    "            \n",
    "            #output file path\n",
    "            output_file = f\"r2_{mol_id}.inp\"\n",
    "            output_path = os.path.join(output_dir, output_file)\n",
    "            writer = open(output_path, \"w\")\n",
    "            \n",
    "            for line in lines:\n",
    "                writer.write(line)\n",
    "            writer.close()\n",
    "            \n",
    "        \n",
    "        \n",
    "        \n",
    "    \n",
    "    "
   ]
  },
  {
   "cell_type": "code",
   "execution_count": null,
   "id": "64bff3c9-5163-4a4c-8106-7561995b0011",
   "metadata": {},
   "outputs": [],
   "source": []
  }
 ],
 "metadata": {
  "kernelspec": {
   "display_name": "Python 3",
   "language": "python",
   "name": "python3"
  },
  "language_info": {
   "codemirror_mode": {
    "name": "ipython",
    "version": 3
   },
   "file_extension": ".py",
   "mimetype": "text/x-python",
   "name": "python",
   "nbconvert_exporter": "python",
   "pygments_lexer": "ipython3",
   "version": "3.8.8"
  }
 },
 "nbformat": 4,
 "nbformat_minor": 5
}
