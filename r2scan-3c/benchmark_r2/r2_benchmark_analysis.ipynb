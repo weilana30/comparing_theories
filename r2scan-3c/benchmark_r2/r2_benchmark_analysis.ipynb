{
 "cells": [
  {
   "cell_type": "code",
   "execution_count": 9,
   "id": "de5d7fb0-5ffb-4ed9-b6e9-e9298d4c4e36",
   "metadata": {},
   "outputs": [],
   "source": [
    "import shutil\n",
    "import os\n",
    "\n",
    "times = []\n",
    "\n",
    "for dirpath, dirnames, files in os.walk(\"/home/aweiland/comparing_theories/r2scan-3c/benchmark_r2/outputs\"):\n",
    "    for file in files:\n",
    "        if file.endswith(\".txt\"):\n",
    "            file_path = os.path.join(dirpath, file)\n",
    "\n",
    "            f = open(file_path, \"r\")\n",
    "\n",
    "            lines = f.readlines()\n",
    "            f.close()\n",
    "\n",
    "            time = float(lines[0].split(\" \")[1].strip())\n",
    "            times.append(time)\n"
   ]
  },
  {
   "cell_type": "code",
   "execution_count": 3,
   "id": "e5a5fd38-f137-4a05-9955-086424a1275c",
   "metadata": {},
   "outputs": [
    {
     "data": {
      "image/png": "[encoded data removed]",
      "text/plain": [
       "<Figure size 432x288 with 1 Axes>"
      ]
     },
     "metadata": {
      "needs_background": "light"
     },
     "output_type": "display_data"
    }
   ],
   "source": [
    "import seaborn as sns\n",
    "import matplotlib.pyplot as plt\n",
    "\n",
    "sns.boxplot(data=times, width=0.5, color=\"grey\", boxprops={'alpha':0.6})\n",
    "plt.title(\"Boxplot of R2scan-3c Run-Times\")\n",
    "plt.xlabel(\"Heavy Atoms\")\n",
    "plt.show()"
   ]
  },
  {
   "cell_type": "code",
   "execution_count": 8,
   "id": "b9cb6c51-e0e6-4e0a-85cc-69c361d31a0d",
   "metadata": {},
   "outputs": [
    {
     "name": "stdout",
     "output_type": "stream",
     "text": [
      "Average time:  1782.64 seconds\n"
     ]
    }
   ],
   "source": [
    "total = 0\n",
    "for time in times:\n",
    "    total += time\n",
    "    \n",
    "print(f\"Average time: {total / len(times): .2f} seconds\")"
   ]
  },
  {
   "cell_type": "code",
   "execution_count": 10,
   "id": "4a0ccd20-c98c-43e6-85e5-84bd9b359365",
   "metadata": {},
   "outputs": [
    {
     "name": "stdout",
     "output_type": "stream",
     "text": [
      "103\n"
     ]
    }
   ],
   "source": [
    "print(len(times))"
   ]
  },
  {
   "cell_type": "code",
   "execution_count": null,
   "id": "326d8ab7-f26a-4312-95c8-37d5b58f9879",
   "metadata": {},
   "outputs": [],
   "source": []
  }
 ],
 "metadata": {
  "kernelspec": {
   "display_name": "Python 3",
   "language": "python",
   "name": "python3"
  },
  "language_info": {
   "codemirror_mode": {
    "name": "ipython",
    "version": 3
   },
   "file_extension": ".py",
   "mimetype": "text/x-python",
   "name": "python",
   "nbconvert_exporter": "python",
   "pygments_lexer": "ipython3",
   "version": "3.8.8"
  }
 },
 "nbformat": 4,
 "nbformat_minor": 5
}
