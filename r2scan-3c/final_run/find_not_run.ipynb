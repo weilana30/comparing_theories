{
 "cells": [
  {
   "cell_type": "code",
   "execution_count": 24,
   "id": "6debddf9-0c78-4247-9a2e-3d734578127f",
   "metadata": {},
   "outputs": [],
   "source": [
    "import os\n",
    "\n",
    "completed_ids = []\n",
    "\n",
    "outputs = \"/home/aweiland/comparing_theories/r2scan-3c/final_run/outputs\"\n",
    "\n",
    "for batch_dir in os.listdir(outputs):\n",
    "    path = os.path.join(outputs, batch_dir)\n",
    "    for subdir in os.listdir(path):\n",
    "        if subdir.startswith(\"r2_\"):\n",
    "            mol_id = subdir[len(\"r2_\"):]\n",
    "        else:\n",
    "            mol_id = subdir\n",
    "        completed_ids.append(mol_id)\n"
   ]
  },
  {
   "cell_type": "code",
   "execution_count": 25,
   "id": "08f26857-3f6d-4bdf-bd79-26e81389ad1e",
   "metadata": {},
   "outputs": [
    {
     "name": "stdout",
     "output_type": "stream",
     "text": [
      "['20182594', '20142248', '20165216', '20169042', '20209395']\n"
     ]
    }
   ],
   "source": [
    "print(completed_ids[:5])"
   ]
  },
  {
   "cell_type": "code",
   "execution_count": 12,
   "id": "33b29ab5-9d03-4a47-961b-759bf5bb2b7c",
   "metadata": {},
   "outputs": [],
   "source": [
    "five_ids = []\n",
    "\n",
    "path = \"/home/aweiland/comparing_theories/dft_geometries/5k_mols\"\n",
    "\n",
    "\n",
    "for subdir in os.listdir(path):\n",
    "    mol_id = subdir.strip(\"dft_\").strip(\".xyz\")\n",
    "    five_ids.append(mol_id)"
   ]
  },
  {
   "cell_type": "code",
   "execution_count": 16,
   "id": "7b314dfc-60a1-401c-9081-9c460ca099a2",
   "metadata": {},
   "outputs": [
    {
     "name": "stdout",
     "output_type": "stream",
     "text": [
      "['20220601', '20221420', '10017875', '20208609', '20052540']\n"
     ]
    }
   ],
   "source": [
    "print(five_ids[:5])"
   ]
  },
  {
   "cell_type": "code",
   "execution_count": 26,
   "id": "ebc66030-bf2e-43f5-9372-8829e6bbba2c",
   "metadata": {},
   "outputs": [],
   "source": [
    "not_completed = []\n",
    "for value in five_ids:\n",
    "    if value not in completed_ids:\n",
    "        not_completed.append(value)"
   ]
  },
  {
   "cell_type": "code",
   "execution_count": 27,
   "id": "6169eba3-fa3a-4c03-8521-c86e57a1e52e",
   "metadata": {},
   "outputs": [
    {
     "name": "stdout",
     "output_type": "stream",
     "text": [
      "2065\n"
     ]
    }
   ],
   "source": [
    "print(len(not_completed))"
   ]
  },
  {
   "cell_type": "code",
   "execution_count": 28,
   "id": "941dc471-6b4b-4257-bd58-a6bdb008c460",
   "metadata": {},
   "outputs": [],
   "source": [
    "import os\n",
    "xtb_inputs = \"/home/aweiland/comparing_theories/xTB/final_run/batches\"\n",
    "output_dir = \"/home/aweiland/comparing_theories/r2scan-3c/input_files\"\n",
    "\n",
    "for dirpath, dirnames, files in os.walk(xtb_inputs):\n",
    "    for file in files:\n",
    "        if file.endswith(\".inp\"):\n",
    "            \n",
    "            #id of mol\n",
    "            mol_id = file.strip(\"xtb_\").strip(\".inp\")\n",
    "            if mol_id not in not_completed:\n",
    "                continue\n",
    "            \n",
    "            #path of original file\n",
    "            og_path = os.path.join(dirpath, file)\n",
    "            \n",
    "            #opens and reads original file\n",
    "            f = open(og_path, \"r\")\n",
    "            lines = f.readlines()\n",
    "            f.close()\n",
    "            \n",
    "            #changes first line to what we want for r2scan-3c\n",
    "            lines[0] = \"! r2SCAN-3c OPT NUMFREQ\"\n",
    "            \n",
    "            #output file path\n",
    "            output_file = f\"r2_{mol_id}.inp\"\n",
    "            output_path = os.path.join(output_dir, output_file)\n",
    "            writer = open(output_path, \"w\")\n",
    "            \n",
    "            for line in lines:\n",
    "                writer.write(line)\n",
    "            writer.close()\n",
    "            "
   ]
  },
  {
   "cell_type": "code",
   "execution_count": null,
   "id": "56494031-0161-4a91-a59b-840926c30e6b",
   "metadata": {},
   "outputs": [],
   "source": []
  }
 ],
 "metadata": {
  "kernelspec": {
   "display_name": "Python 3",
   "language": "python",
   "name": "python3"
  },
  "language_info": {
   "codemirror_mode": {
    "name": "ipython",
    "version": 3
   },
   "file_extension": ".py",
   "mimetype": "text/x-python",
   "name": "python",
   "nbconvert_exporter": "python",
   "pygments_lexer": "ipython3",
   "version": "3.8.8"
  }
 },
 "nbformat": 4,
 "nbformat_minor": 5
}
