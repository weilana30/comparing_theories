{
 "cells": [
  {
   "cell_type": "code",
   "execution_count": 3,
   "id": "017f758a-b702-42d3-acf7-c58e8db3b6d0",
   "metadata": {},
   "outputs": [],
   "source": [
    "import os\n",
    "\n",
    "output_dir = \"/home/aweiland/comparing_theories/r2scan-3c/final_run/redo_slurms\"\n",
    "\n",
    "for i in range(0, 30):\n",
    "    output_path = os.path.join(output_dir, f\"job_{i}.sh\")\n",
    "    with open(output_path, \"w\") as f:\n",
    "        f.write(\"#!/bin/bash\\n\")\n",
    "        f.write(\"#SBATCH --job-name=\\\"r2scan3c_calc\\\"\\n\")\n",
    "        f.write(\"#SBATCH --partition=shared\\n\")\n",
    "        f.write(\"#SBATCH --nodes=1\\n\")\n",
    "        f.write(\"#SBATCH --ntasks-per-node=16\\n\")\n",
    "        f.write(\"#SBATCH --mem=32G\\n\")\n",
    "        f.write(\"#SBATCH --account=slc154\\n\")\n",
    "        f.write(\"#SBATCH --export=ALL\\n\")\n",
    "        f.write(\"#SBATCH -t 2-00:00:00\\n\\n\")\n",
    "        f.write(\"source ~/.bashrc\\n\")\n",
    "        f.write(\"module load cpu/0.15.4\\n\")\n",
    "        f.write(\"module load gcc/9.2.0\\n\")\n",
    "        f.write(\"module load openmpi/4.1.1\\n\\n\")\n",
    "        f.write(\"SCRATCH=\\\"/scratch/$USER/job_$SLURM_JOB_ID\\\"\\n\\n\")\n",
    "        f.write(\"mkdir -p \\\"$SCRATCH\\\"\\n\")\n",
    "        f.write(\"mkdir -p \\\"$SCRATCH/redo_outputs\\\"\\n\\n\")\n",
    "        f.write(f\"cp -r /home/aweiland/comparing_theories/r2scan-3c/final_run/redo_batches/batch_{i} \\\"$SCRATCH/\\\"\\n\\n\")\n",
    "        f.write(f\"cd \\\"$SCRATCH/batch_{i}\\\"\\n\\n\")\n",
    "        f.write(\"for file in *.inp; do\\n\")\n",
    "        f.write(\"    echo \\\"DEBUG: Running ORCA on file '$file'\\\"\\n\")\n",
    "        f.write(\"    mol_num=$(basename \\\"$file\\\" .inp)\\n\")\n",
    "        f.write(f\"    mkdir -p \\\"$SCRATCH/redo_outputs/batch_{i}/$mol_num\\\"\\n\")\n",
    "        f.write(f\"    /usr/bin/time -p /home/aweiland/comparing_theories/orca/orca_6_1_0_linux_x86-64_shared_openmpi418/orca \\\"$file\\\" > \\\"$SCRATCH/redo_outputs/batch_{i}/$mol_num/${{mol_num}}.out\\\" 2> \\\"$SCRATCH/redo_outputs/batch_{i}/$mol_num/runtime.txt\\\"\\n\")\n",
    "        f.write(\"done\\n\\n\")\n",
    "        f.write(f\"mkdir -p /home/aweiland/comparing_theories/r2scan-3c/final_run/redo_outputs/batch_{i}\\n\")\n",
    "        f.write(f\"cp -r \\\"$SCRATCH/redo_outputs/batch_{i}\\\"/* /home/aweiland/comparing_theories/r2scan-3c/final_run/redo_outputs/batch_{i}/\\n\")\n",
    "        f.close()\n"
   ]
  },
  {
   "cell_type": "code",
   "execution_count": null,
   "id": "4fa8d581-e5be-4443-b507-ce23c4463865",
   "metadata": {},
   "outputs": [],
   "source": []
  }
 ],
 "metadata": {
  "kernelspec": {
   "display_name": "Python 3",
   "language": "python",
   "name": "python3"
  },
  "language_info": {
   "codemirror_mode": {
    "name": "ipython",
    "version": 3
   },
   "file_extension": ".py",
   "mimetype": "text/x-python",
   "name": "python",
   "nbconvert_exporter": "python",
   "pygments_lexer": "ipython3",
   "version": "3.8.8"
  }
 },
 "nbformat": 4,
 "nbformat_minor": 5
}
