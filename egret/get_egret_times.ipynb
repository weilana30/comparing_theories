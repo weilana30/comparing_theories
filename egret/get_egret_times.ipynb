{
 "cells": [
  {
   "cell_type": "code",
   "execution_count": 38,
   "id": "d327e921-0c1b-4ab5-9ca0-de9a8c305e17",
   "metadata": {},
   "outputs": [],
   "source": [
    "#Script to get the time taken for all egret calculations and put them\n",
    "#into a dataframe\n",
    "import pandas as pd\n",
    "\n",
    "df = pd.DataFrame()\n",
    "df[\"mol_id\"] = None\n",
    "df[\"egret_time\"] = None\n",
    "df[\"batch_num\"] = None\n",
    "\n",
    "\n",
    "import os\n",
    "from datetime import datetime\n",
    "\n",
    "output_dir = \"/home/aweiland/comparing_theories/egret/egret_benchmark/outputs\"\n",
    "\n",
    "\n",
    "\n",
    "for directory in os.listdir(output_dir):\n",
    "    batch_num = directory\n",
    "    \n",
    "    batch_dir_path = os.path.join(output_dir, batch_num)\n",
    "    for sub_dir in os.listdir(batch_dir_path):\n",
    "        \n",
    "        mol_id = sub_dir.strip(\"mol_\")\n",
    "        \n",
    "        sub_dir_path = os.path.join(batch_dir_path, sub_dir)\n",
    "        \n",
    "        log_dir = os.path.join(sub_dir_path, \"opt.log\")\n",
    "        \n",
    "        \n",
    "        with open(log_dir, \"r\") as f:\n",
    "            lines = f.readlines()\n",
    "            try:\n",
    "                start = lines[1].split()[2]\n",
    "                end = lines[-1].split()[2]\n",
    "            except IndexError:\n",
    "                pass\n",
    "                \n",
    "                \n",
    "            \n",
    "            fmt = \"%H:%M:%S\"\n",
    "            t1 = datetime.strptime(start, fmt)\n",
    "            t2 = datetime.strptime(end, fmt)\n",
    "            \n",
    "            #handles situation where job starts one day and ends another \n",
    "            #which could create a negative time\n",
    "            if start[0] == \"2\" and end[0] == \"0\":\n",
    "                start = \"1-\" + start\n",
    "                end = \"2-\" + end\n",
    "                fmt = \"%d-%H:%M:%S\"\n",
    "                t1 = datetime.strptime(start, fmt)\n",
    "                t2 = datetime.strptime(end, fmt)\n",
    "            \n",
    "            \n",
    "            delta = t2 - t1\n",
    "            \n",
    "            seconds = delta.total_seconds()\n",
    "            \n",
    "            df = df.append({\"mol_id\": mol_id, \"egret_time\": seconds, \"batch_num\": batch_num}, ignore_index=True)\n",
    "\n",
    "        \n",
    "        \n"
   ]
  },
  {
   "cell_type": "code",
   "execution_count": 23,
   "id": "dd077164-f110-4f08-be26-02f10a3115bb",
   "metadata": {},
   "outputs": [
    {
     "data": {
      "text/html": [
       "<div>\n",
       "<style scoped>\n",
       "    .dataframe tbody tr th:only-of-type {\n",
       "        vertical-align: middle;\n",
       "    }\n",
       "\n",
       "    .dataframe tbody tr th {\n",
       "        vertical-align: top;\n",
       "    }\n",
       "\n",
       "    .dataframe thead th {\n",
       "        text-align: right;\n",
       "    }\n",
       "</style>\n",
       "<table border=\"1\" class=\"dataframe\">\n",
       "  <thead>\n",
       "    <tr style=\"text-align: right;\">\n",
       "      <th></th>\n",
       "      <th>mol_id</th>\n",
       "      <th>egret_time</th>\n",
       "      <th>batch_num</th>\n",
       "    </tr>\n",
       "  </thead>\n",
       "  <tbody>\n",
       "    <tr>\n",
       "      <th>0</th>\n",
       "      <td>20142266</td>\n",
       "      <td>0 days 00:01:51</td>\n",
       "      <td>0.1</td>\n",
       "    </tr>\n",
       "    <tr>\n",
       "      <th>1</th>\n",
       "      <td>20206259</td>\n",
       "      <td>0 days 00:02:04</td>\n",
       "      <td>0.1</td>\n",
       "    </tr>\n",
       "    <tr>\n",
       "      <th>2</th>\n",
       "      <td>20123182</td>\n",
       "      <td>0 days 00:03:00</td>\n",
       "      <td>0.1</td>\n",
       "    </tr>\n",
       "    <tr>\n",
       "      <th>3</th>\n",
       "      <td>20122102</td>\n",
       "      <td>0 days 00:01:24</td>\n",
       "      <td>0.1</td>\n",
       "    </tr>\n",
       "    <tr>\n",
       "      <th>4</th>\n",
       "      <td>10019299</td>\n",
       "      <td>0 days 00:02:17</td>\n",
       "      <td>0.1</td>\n",
       "    </tr>\n",
       "  </tbody>\n",
       "</table>\n",
       "</div>"
      ],
      "text/plain": [
       "     mol_id      egret_time batch_num\n",
       "0  20142266 0 days 00:01:51       0.1\n",
       "1  20206259 0 days 00:02:04       0.1\n",
       "2  20123182 0 days 00:03:00       0.1\n",
       "3  20122102 0 days 00:01:24       0.1\n",
       "4  10019299 0 days 00:02:17       0.1"
      ]
     },
     "execution_count": 23,
     "metadata": {},
     "output_type": "execute_result"
    }
   ],
   "source": [
    "df.head()"
   ]
  },
  {
   "cell_type": "code",
   "execution_count": 2,
   "id": "07668d4e-4cc6-47ba-a2d3-3dec60c96efe",
   "metadata": {},
   "outputs": [],
   "source": [
    "#Script to get the time taken for all egret calculations and put them\n",
    "#into a dataframe\n",
    "import pandas as pd\n",
    "\n",
    "df = pd.DataFrame()\n",
    "df[\"mol_id\"] = None\n",
    "df[\"egret_time\"] = None\n",
    "df[\"batch_num\"] = None\n",
    "\n",
    "\n",
    "import os\n",
    "from datetime import datetime\n",
    "\n",
    "output_dir = \"/home/aweiland/comparing_theories/egret/egret_final/output\"\n",
    "\n",
    "\n",
    "\n",
    "for directory in os.listdir(output_dir):\n",
    "    batch_num = directory\n",
    "    \n",
    "    batch_dir_path = os.path.join(output_dir, batch_num)\n",
    "    for sub_dir in os.listdir(batch_dir_path):\n",
    "        \n",
    "        mol_id = sub_dir.strip(\"mol_\")\n",
    "        \n",
    "        sub_dir_path = os.path.join(batch_dir_path, sub_dir)\n",
    "        \n",
    "        log_dir = os.path.join(sub_dir_path, \"opt.log\")\n",
    "        \n",
    "        \n",
    "        with open(log_dir, \"r\") as f:\n",
    "            lines = f.readlines()\n",
    "            try:\n",
    "                start = lines[1].split()[2]\n",
    "                end = lines[-1].split()[2]\n",
    "            except IndexError:\n",
    "                pass\n",
    "                \n",
    "                \n",
    "            \n",
    "            fmt = \"%H:%M:%S\"\n",
    "            t1 = datetime.strptime(start, fmt)\n",
    "            t2 = datetime.strptime(end, fmt)\n",
    "            \n",
    "            #handles situation where job starts one day and ends another \n",
    "            #which could create a negative time\n",
    "            if start[0] == \"2\" and end[0] == \"0\":\n",
    "                start = \"1-\" + start\n",
    "                end = \"2-\" + end\n",
    "                fmt = \"%d-%H:%M:%S\"\n",
    "                t1 = datetime.strptime(start, fmt)\n",
    "                t2 = datetime.strptime(end, fmt)\n",
    "            \n",
    "            \n",
    "            delta = t2 - t1\n",
    "            \n",
    "            seconds = delta.total_seconds()\n",
    "            \n",
    "            df = df.append({\"mol_id\": mol_id, \"egret_time\": seconds, \"batch_num\": batch_num}, ignore_index=True)\n",
    "\n",
    "        \n",
    "        \n"
   ]
  },
  {
   "cell_type": "code",
   "execution_count": 3,
   "id": "e1440ec9-f132-49d7-9884-75a42f46d982",
   "metadata": {},
   "outputs": [
    {
     "data": {
      "text/html": [
       "<div>\n",
       "<style scoped>\n",
       "    .dataframe tbody tr th:only-of-type {\n",
       "        vertical-align: middle;\n",
       "    }\n",
       "\n",
       "    .dataframe tbody tr th {\n",
       "        vertical-align: top;\n",
       "    }\n",
       "\n",
       "    .dataframe thead th {\n",
       "        text-align: right;\n",
       "    }\n",
       "</style>\n",
       "<table border=\"1\" class=\"dataframe\">\n",
       "  <thead>\n",
       "    <tr style=\"text-align: right;\">\n",
       "      <th></th>\n",
       "      <th>mol_id</th>\n",
       "      <th>egret_time</th>\n",
       "      <th>batch_num</th>\n",
       "    </tr>\n",
       "  </thead>\n",
       "  <tbody>\n",
       "    <tr>\n",
       "      <th>0</th>\n",
       "      <td>20045248</td>\n",
       "      <td>198.0</td>\n",
       "      <td>batch_0</td>\n",
       "    </tr>\n",
       "    <tr>\n",
       "      <th>1</th>\n",
       "      <td>20026405</td>\n",
       "      <td>182.0</td>\n",
       "      <td>batch_0</td>\n",
       "    </tr>\n",
       "    <tr>\n",
       "      <th>2</th>\n",
       "      <td>20172452</td>\n",
       "      <td>196.0</td>\n",
       "      <td>batch_0</td>\n",
       "    </tr>\n",
       "    <tr>\n",
       "      <th>3</th>\n",
       "      <td>20174024</td>\n",
       "      <td>393.0</td>\n",
       "      <td>batch_0</td>\n",
       "    </tr>\n",
       "    <tr>\n",
       "      <th>4</th>\n",
       "      <td>10018176</td>\n",
       "      <td>364.0</td>\n",
       "      <td>batch_0</td>\n",
       "    </tr>\n",
       "  </tbody>\n",
       "</table>\n",
       "</div>"
      ],
      "text/plain": [
       "     mol_id  egret_time batch_num\n",
       "0  20045248       198.0   batch_0\n",
       "1  20026405       182.0   batch_0\n",
       "2  20172452       196.0   batch_0\n",
       "3  20174024       393.0   batch_0\n",
       "4  10018176       364.0   batch_0"
      ]
     },
     "execution_count": 3,
     "metadata": {},
     "output_type": "execute_result"
    }
   ],
   "source": [
    "df.head()"
   ]
  },
  {
   "cell_type": "code",
   "execution_count": 4,
   "id": "b6970cc9-96a6-43b5-8079-ef9e44fb39ed",
   "metadata": {},
   "outputs": [],
   "source": [
    "df = df.drop(\"batch_num\", axis=1)"
   ]
  },
  {
   "cell_type": "code",
   "execution_count": 6,
   "id": "45ba7853-7985-4c2f-9c16-f4a03b36a1f9",
   "metadata": {},
   "outputs": [],
   "source": [
    "fivek = pd.read_csv(\"/home/aweiland/comparing_theories/5k_mol_stats.csv\")"
   ]
  },
  {
   "cell_type": "code",
   "execution_count": 10,
   "id": "98f8c0ea-f422-4b26-937b-b209ac7daab5",
   "metadata": {},
   "outputs": [],
   "source": [
    "merged = pd.merge(fivek, df, on=\"mol_id\", how=\"inner\")"
   ]
  },
  {
   "cell_type": "code",
   "execution_count": 18,
   "id": "3587699e-b565-4214-86e8-751fdd7fe0de",
   "metadata": {},
   "outputs": [
    {
     "data": {
      "text/plain": [
       "(5138, 11)"
      ]
     },
     "execution_count": 18,
     "metadata": {},
     "output_type": "execute_result"
    }
   ],
   "source": [
    "merged.shape"
   ]
  },
  {
   "cell_type": "code",
   "execution_count": 19,
   "id": "4201b4cf-7504-43ca-b4d6-b0fb9d4f70cd",
   "metadata": {},
   "outputs": [],
   "source": [
    "merged.to_csv(\"/home/aweiland/comparing_theories/5k_mol_stats.csv\", index=False)"
   ]
  },
  {
   "cell_type": "code",
   "execution_count": 13,
   "id": "9150dc2f-36f4-4798-a677-cdd61786e621",
   "metadata": {},
   "outputs": [
    {
     "data": {
      "text/plain": [
       "(5138, 10)"
      ]
     },
     "execution_count": 13,
     "metadata": {},
     "output_type": "execute_result"
    }
   ],
   "source": []
  },
  {
   "cell_type": "code",
   "execution_count": 15,
   "id": "93c7bba8-73c4-483f-8d16-c167ab642142",
   "metadata": {},
   "outputs": [
    {
     "data": {
      "text/plain": [
       "0"
      ]
     },
     "execution_count": 15,
     "metadata": {},
     "output_type": "execute_result"
    }
   ],
   "source": []
  },
  {
   "cell_type": "code",
   "execution_count": 16,
   "id": "8d6ed37f-7ef9-4976-a89c-1a62de3f90cf",
   "metadata": {},
   "outputs": [
    {
     "data": {
      "text/plain": [
       "False"
      ]
     },
     "execution_count": 16,
     "metadata": {},
     "output_type": "execute_result"
    }
   ],
   "source": [
    "df['mol_id'].isin(fivek['mol_id']).all()\n"
   ]
  },
  {
   "cell_type": "code",
   "execution_count": null,
   "id": "10e5e92d-985f-49cf-a57b-5668fc4a9cf7",
   "metadata": {},
   "outputs": [],
   "source": []
  }
 ],
 "metadata": {
  "kernelspec": {
   "display_name": "Python 3",
   "language": "python",
   "name": "python3"
  },
  "language_info": {
   "codemirror_mode": {
    "name": "ipython",
    "version": 3
   },
   "file_extension": ".py",
   "mimetype": "text/x-python",
   "name": "python",
   "nbconvert_exporter": "python",
   "pygments_lexer": "ipython3",
   "version": "3.8.8"
  }
 },
 "nbformat": 4,
 "nbformat_minor": 5
}
