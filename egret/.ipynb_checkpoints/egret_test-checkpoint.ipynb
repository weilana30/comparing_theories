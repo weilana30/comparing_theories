{
 "cells": [
  {
   "cell_type": "code",
   "execution_count": 2,
   "id": "287fbdbc-73b7-49dd-abb6-0ba1c8ef3f44",
   "metadata": {},
   "outputs": [
    {
     "name": "stderr",
     "output_type": "stream",
     "text": [
      "/home/aweiland/.conda/envs/egret-env/lib/python3.12/site-packages/e3nn/o3/_wigner.py:10: UserWarning: Environment variable TORCH_FORCE_NO_WEIGHTS_ONLY_LOAD detected, since the`weights_only` argument was not explicitly passed to `torch.load`, forcing weights_only=False.\n",
      "  _Jd, _W3j_flat, _W3j_indices = torch.load(os.path.join(os.path.dirname(__file__), 'constants.pt'))\n"
     ]
    },
    {
     "name": "stdout",
     "output_type": "stream",
     "text": [
      "cuequivariance or cuequivariance_torch is not available. Cuequivariance acceleration will be disabled.\n"
     ]
    }
   ],
   "source": [
    "import ase.io\n",
    "from ase.optimize import BFGS\n",
    "import torch\n",
    "from ase.calculators.calculator import all_changes\n",
    "from mace.calculators import mace_off\n",
    "from ase.io import Trajectory\n"
   ]
  },
  {
   "cell_type": "code",
   "execution_count": 3,
   "id": "7c9a31c2-cf59-4777-a8a9-69a499228d5b",
   "metadata": {},
   "outputs": [],
   "source": [
    "test_file = \"/home/aweiland/comparing_theories/dft_geometries/dft_xyz_files/dft_20071924.xyz\"\n",
    "\n",
    "atoms = ase.io.read(test_file, format=\"xyz\")\n",
    "\n"
   ]
  },
  {
   "cell_type": "code",
   "execution_count": 5,
   "id": "ecbcbbf6-166a-46ca-8e5d-9d52822ae631",
   "metadata": {},
   "outputs": [
    {
     "name": "stdout",
     "output_type": "stream",
     "text": [
      "Using float64 for MACECalculator, which is slower but more accurate. Recommended for geometry optimization.\n",
      "Default dtype float64 does not match model dtype float32, converting models to float64.\n"
     ]
    }
   ],
   "source": [
    "model_path = \"/home/aweiland/comparing_theories/egret/EGRET_1.model\"\n",
    "calculator = mace_off(model=model_path, default_dtype=\"float64\",\n",
    "                      device=\"cpu\")\n"
   ]
  },
  {
   "cell_type": "code",
   "execution_count": 6,
   "id": "f17575a0-73aa-4402-828f-f769116e25e8",
   "metadata": {},
   "outputs": [],
   "source": [
    "atoms.calc = calculator"
   ]
  },
  {
   "cell_type": "code",
   "execution_count": null,
   "id": "e4cdd8a9-4720-4347-b824-6812c16ea05f",
   "metadata": {},
   "outputs": [],
   "source": [
    "traj = Trajectory('opt.traj', 'w', atoms)\n",
    "opt = BFGS(atoms, trajectory=traj)\n",
    "\n",
    "opt = BFGS(atoms, logfile=\"opt.log\")\n",
    "opt.run(fmax=0.01)"
   ]
  },
  {
   "cell_type": "code",
   "execution_count": 4,
   "id": "67059bc3-11c6-408c-b906-52036e740c3d",
   "metadata": {},
   "outputs": [],
   "source": [
    "traj = Trajectory(\"/home/aweiland/comparing_theories/egret/egret_test/egret_test_opt.traj\")\n",
    "\n"
   ]
  },
  {
   "cell_type": "code",
   "execution_count": 10,
   "id": "47bd0a6f-7a9e-4a56-9327-a6d726c5eca9",
   "metadata": {},
   "outputs": [
    {
     "name": "stdout",
     "output_type": "stream",
     "text": [
      "0.11136397635353004\n",
      "0.05662886584137304\n"
     ]
    }
   ],
   "source": [
    "for thing in traj:\n",
    "    print(thing.get_forces().max())"
   ]
  },
  {
   "cell_type": "code",
   "execution_count": null,
   "id": "8b533a1b-7f3e-4baf-afd4-ec4f506c9ca5",
   "metadata": {},
   "outputs": [],
   "source": []
  }
 ],
 "metadata": {
  "kernelspec": {
   "display_name": "Python (egret-env)",
   "language": "python",
   "name": "egret-env"
  },
  "language_info": {
   "codemirror_mode": {
    "name": "ipython",
    "version": 3
   },
   "file_extension": ".py",
   "mimetype": "text/x-python",
   "name": "python",
   "nbconvert_exporter": "python",
   "pygments_lexer": "ipython3",
   "version": "3.12.11"
  }
 },
 "nbformat": 4,
 "nbformat_minor": 5
}
