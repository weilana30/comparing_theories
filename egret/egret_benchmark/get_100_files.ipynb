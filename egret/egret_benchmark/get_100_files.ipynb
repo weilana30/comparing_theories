{
 "cells": [
  {
   "cell_type": "code",
   "execution_count": 1,
   "id": "ec52521f-f95a-46d4-9a5b-214cd22106c8",
   "metadata": {},
   "outputs": [],
   "source": [
    "import os\n",
    "import shutil\n",
    "from more_itertools import sample\n",
    "from pathlib import Path\n",
    "\n",
    "all_files = Path(\"/home/aweiland/comparing_theories/dft_geometries/dft_xyz_files\")\n",
    "\n",
    "\n",
    "\n",
    "output_path = \"/home/aweiland/comparing_theories/egret/egret_benchmark\"\n",
    "\n",
    "\n",
    "\n",
    "random_files = sample(\n",
    "    (p for p in all_files.iterdir() if p.is_file() and not p.name.startswith(\".\")),\n",
    "        100\n",
    ")\n",
    "\n",
    "for path in random_files:\n",
    "    shutil.copy(path, output_path)\n"
   ]
  },
  {
   "cell_type": "code",
   "execution_count": null,
   "id": "f3276f14-533e-40cb-bf6a-75621d389028",
   "metadata": {},
   "outputs": [],
   "source": []
  }
 ],
 "metadata": {
  "kernelspec": {
   "display_name": "Python 3",
   "language": "python",
   "name": "python3"
  },
  "language_info": {
   "codemirror_mode": {
    "name": "ipython",
    "version": 3
   },
   "file_extension": ".py",
   "mimetype": "text/x-python",
   "name": "python",
   "nbconvert_exporter": "python",
   "pygments_lexer": "ipython3",
   "version": "3.8.8"
  }
 },
 "nbformat": 4,
 "nbformat_minor": 5
}
