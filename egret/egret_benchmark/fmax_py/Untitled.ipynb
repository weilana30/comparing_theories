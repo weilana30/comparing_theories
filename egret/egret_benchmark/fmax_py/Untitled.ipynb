{
 "cells": [
  {
   "cell_type": "code",
   "execution_count": 4,
   "id": "412b8fd6-8db8-476b-99d3-bc576b820378",
   "metadata": {},
   "outputs": [
    {
     "name": "stdout",
     "output_type": "stream",
     "text": [
      "20180526\n"
     ]
    }
   ],
   "source": [
    "import os\n",
    "\n",
    "dir_100 = \"/home/aweiland/comparing_theories/egret/egret_benchmark/100_files\"\n",
    "\n",
    "for file in os.listdir(dir_100):\n",
    "    path = os.path.join(dir_100, file)\n",
    "    ids = file.strip(\"dft_\").strip(\".xyz\")\n",
    "    print(ids)\n",
    "    break\n",
    "    \n",
    "\n"
   ]
  },
  {
   "cell_type": "code",
   "execution_count": null,
   "id": "481b8512-5189-4618-8cb5-257a94f2f303",
   "metadata": {},
   "outputs": [],
   "source": []
  }
 ],
 "metadata": {
  "kernelspec": {
   "display_name": "Python 3",
   "language": "python",
   "name": "python3"
  },
  "language_info": {
   "codemirror_mode": {
    "name": "ipython",
    "version": 3
   },
   "file_extension": ".py",
   "mimetype": "text/x-python",
   "name": "python",
   "nbconvert_exporter": "python",
   "pygments_lexer": "ipython3",
   "version": "3.8.8"
  }
 },
 "nbformat": 4,
 "nbformat_minor": 5
}
