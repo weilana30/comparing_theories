{
 "cells": [
  {
   "cell_type": "code",
   "execution_count": 15,
   "id": "4330f202-6edb-440f-ac8e-cb930bafba0f",
   "metadata": {},
   "outputs": [],
   "source": [
    "import os\n",
    "\n",
    "completed_ids = []\n",
    "\n",
    "outputs = \"/home/aweiland/comparing_theories/egret/egret_final/output\"\n",
    "\n",
    "for batch_dir in os.listdir(outputs):\n",
    "    path = os.path.join(outputs, batch_dir)\n",
    "    for subdir in os.listdir(path):\n",
    "        if subdir.startswith(\"mol_\"):\n",
    "            mol_id = subdir[len(\"mol_\"):]\n",
    "        else:\n",
    "            mol_id = subdir\n",
    "        completed_ids.append(mol_id)\n"
   ]
  },
  {
   "cell_type": "code",
   "execution_count": 16,
   "id": "2bec329d-4bff-4281-8bc7-911601e9c016",
   "metadata": {},
   "outputs": [
    {
     "name": "stdout",
     "output_type": "stream",
     "text": [
      "['20045248', '20026405', '20172452', '20174024', '10018176']\n"
     ]
    }
   ],
   "source": [
    "print(completed_ids[:5])"
   ]
  },
  {
   "cell_type": "code",
   "execution_count": 17,
   "id": "1b3aa631-fc9a-44d3-b905-384c5b922fa1",
   "metadata": {},
   "outputs": [],
   "source": [
    "five_ids = []\n",
    "\n",
    "path = \"/home/aweiland/comparing_theories/dft_geometries/5k_mols\"\n",
    "\n",
    "\n",
    "for subdir in os.listdir(path):\n",
    "    mol_id = subdir.strip(\"dft_\").strip(\".xyz\")\n",
    "    five_ids.append(mol_id)"
   ]
  },
  {
   "cell_type": "code",
   "execution_count": 18,
   "id": "1b9c5180-ae06-4295-971f-e399fc2c649f",
   "metadata": {},
   "outputs": [],
   "source": [
    "not_completed = []\n",
    "for value in five_ids:\n",
    "    if value not in completed_ids:\n",
    "        not_completed.append(value)"
   ]
  },
  {
   "cell_type": "code",
   "execution_count": 19,
   "id": "9802b12e-6630-49a4-af1b-6c4851ca92da",
   "metadata": {},
   "outputs": [
    {
     "name": "stdout",
     "output_type": "stream",
     "text": [
      "159\n"
     ]
    }
   ],
   "source": [
    "print(len(not_completed))"
   ]
  },
  {
   "cell_type": "code",
   "execution_count": 20,
   "id": "b180463d-a834-45b3-bf5e-13f6c79162d9",
   "metadata": {},
   "outputs": [],
   "source": [
    "import os\n",
    "import shutil\n",
    "\n",
    "fivek_path = \"/home/aweiland/comparing_theories/dft_geometries/5k_mols\"\n",
    "\n",
    "for mol_id in not_completed:\n",
    "    path = os.path.join(fivek_path, \"dft_\" + mol_id + \".xyz\")\n",
    "    shutil.copy(path, \"/home/aweiland/comparing_theories/egret/egret_final/batches/batch_15\")\n",
    "                        \n",
    "            "
   ]
  },
  {
   "cell_type": "code",
   "execution_count": null,
   "id": "07adc269-04d1-49e5-998a-43991fe95972",
   "metadata": {},
   "outputs": [],
   "source": []
  },
  {
   "cell_type": "code",
   "execution_count": null,
   "id": "9e5ddda2-6052-4f54-88b3-e4af37497ccd",
   "metadata": {},
   "outputs": [],
   "source": []
  }
 ],
 "metadata": {
  "kernelspec": {
   "display_name": "Python 3",
   "language": "python",
   "name": "python3"
  },
  "language_info": {
   "codemirror_mode": {
    "name": "ipython",
    "version": 3
   },
   "file_extension": ".py",
   "mimetype": "text/x-python",
   "name": "python",
   "nbconvert_exporter": "python",
   "pygments_lexer": "ipython3",
   "version": "3.8.8"
  }
 },
 "nbformat": 4,
 "nbformat_minor": 5
}
