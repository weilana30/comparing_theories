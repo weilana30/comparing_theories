{
 "cells": [
  {
   "cell_type": "code",
   "execution_count": 3,
   "id": "877a7e96-c7a9-4ae7-9154-850afe606364",
   "metadata": {},
   "outputs": [],
   "source": [
    "import os\n",
    "import shutil\n",
    "\n",
    "\n",
    "for batch in range(15):\n",
    "    \n",
    "\n",
    "    output_dir = f\"/home/aweiland/comparing_theories/egret/egret_final/output/batch_{batch}\"\n",
    "    input_dir = f\"/home/aweiland/comparing_theories/egret/egret_final/batches/batch_{batch}\"\n",
    "    completed = \"/home/aweiland/comparing_theories/egret/egret_final/batches/completed\"\n",
    "\n",
    "\n",
    "    for file in os.listdir(input_dir):\n",
    "        base = file.strip(\"dft_\").strip(\".xyz\")\n",
    "        input_path = os.path.join(input_dir, file)\n",
    "\n",
    "        output_file = \"mol_\" + base\n",
    "\n",
    "        output_path = os.path.join(output_dir, output_file)\n",
    "\n",
    "        if os.path.isdir(output_path):\n",
    "            shutil.move(input_path, completed)\n",
    "\n",
    "\n",
    "\n",
    "\n",
    "\n",
    "\n",
    "\n",
    "\n",
    "\n",
    "\n",
    "\n"
   ]
  },
  {
   "cell_type": "code",
   "execution_count": null,
   "id": "519b466e-e48a-4182-8a91-0f1a79061857",
   "metadata": {},
   "outputs": [],
   "source": []
  }
 ],
 "metadata": {
  "kernelspec": {
   "display_name": "Python 3",
   "language": "python",
   "name": "python3"
  },
  "language_info": {
   "codemirror_mode": {
    "name": "ipython",
    "version": 3
   },
   "file_extension": ".py",
   "mimetype": "text/x-python",
   "name": "python",
   "nbconvert_exporter": "python",
   "pygments_lexer": "ipython3",
   "version": "3.8.8"
  }
 },
 "nbformat": 4,
 "nbformat_minor": 5
}
