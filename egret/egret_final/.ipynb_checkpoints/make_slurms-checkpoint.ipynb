{
 "cells": [
  {
   "cell_type": "code",
   "execution_count": 2,
   "id": "80798de3-1b82-4924-99be-92e68b2e08c7",
   "metadata": {},
   "outputs": [],
   "source": [
    "import os\n",
    "output_dir = \"/home/aweiland/comparing_theories/egret/egret_final/slurm_scripts\"\n",
    "\n",
    "for i in range(0, 15):\n",
    "    output_path = os.path.join(output_dir, f\"job_{i}.sh\")\n",
    "    f = open(output_path, \"w\")\n",
    "    f.write(\"#!/bin/bash\\n\")\n",
    "    f.write(\"#SBATCH --job-name=\\\"egret_calc\\\"\\n\")\n",
    "    f.write(\"#SBATCH --partition=shared\\n\")\n",
    "    f.write(\"#SBATCH --nodes=1\\n\")\n",
    "    f.write(\"#SBATCH --ntasks-per-node=1\\n\")\n",
    "    f.write(\"#SBATCH --mem=16G\\n\")\n",
    "    f.write(\"#SBATCH --account=slc154\\n\")\n",
    "    f.write(\"#SBATCH --export=ALL\\n\")\n",
    "    f.write(\"#SBATCH -t 2-00:00:00\\n\\n\")\n",
    "    f.write(\"source ~/.bashrc\\n\")\n",
    "    f.write(\"conda activate egret-env\\n\")\n",
    "    f.write(f\"python /home/aweiland/comparing_theories/egret/egret_final/egret.py --batch_num {i} &> /home/aweiland/comparing_theories/egret/egret_final/time/job_{i}.txt\")\n",
    "    f.close()\n",
    "    \n",
    "        "
   ]
  },
  {
   "cell_type": "code",
   "execution_count": 1,
   "id": "fe3151f8-7d7a-4196-a2cc-77b8a43b8337",
   "metadata": {},
   "outputs": [],
   "source": [
    "import click"
   ]
  },
  {
   "cell_type": "code",
   "execution_count": null,
   "id": "f3177a14-3436-4336-85ab-afb0c7840b58",
   "metadata": {},
   "outputs": [],
   "source": []
  }
 ],
 "metadata": {
  "kernelspec": {
   "display_name": "Python (egret-env)",
   "language": "python",
   "name": "egret-env"
  },
  "language_info": {
   "codemirror_mode": {
    "name": "ipython",
    "version": 3
   },
   "file_extension": ".py",
   "mimetype": "text/x-python",
   "name": "python",
   "nbconvert_exporter": "python",
   "pygments_lexer": "ipython3",
   "version": "3.12.11"
  }
 },
 "nbformat": 4,
 "nbformat_minor": 5
}
