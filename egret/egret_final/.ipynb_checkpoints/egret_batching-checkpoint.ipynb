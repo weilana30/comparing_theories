{
 "cells": [
  {
   "cell_type": "code",
   "execution_count": 5,
   "id": "10e5c06d-4ff3-4107-bbab-e3f4fd1e4bf8",
   "metadata": {},
   "outputs": [],
   "source": [
    "import os\n",
    "import shutil\n",
    "\n",
    "all_files = \"/home/aweiland/comparing_theories/dft_geometries/dft_xyz_files\"\n",
    "\n",
    "\n",
    "batch_size = 500\n",
    "\n",
    "output_directory = \"/home/aweiland/comparing_theories/egret/egret_final/batches\"\n",
    "\n",
    "current_batch = 0\n",
    "\n",
    "current_mol = 0\n",
    "\n",
    "batch_directory = None\n",
    "\n",
    "for file in os.listdir(all_files):\n",
    "    if current_mol == 0:\n",
    "        batch_directory = os.path.join(output_directory, f\"batch_{current_batch}\")\n",
    "        \n",
    "        os.makedirs(batch_directory)\n",
    "        \n",
    "    file_path = os.path.join(all_files, file)\n",
    "    shutil.copy(file_path, batch_directory)\n",
    "    current_mol += 1\n",
    "    \n",
    "    if current_mol == batch_size:\n",
    "        current_mol = 0\n",
    "        current_batch += 1"
   ]
  },
  {
   "cell_type": "code",
   "execution_count": null,
   "id": "f75a76e2-15db-4431-8399-e57052e35124",
   "metadata": {},
   "outputs": [],
   "source": []
  }
 ],
 "metadata": {
  "kernelspec": {
   "display_name": "Python 3",
   "language": "python",
   "name": "python3"
  },
  "language_info": {
   "codemirror_mode": {
    "name": "ipython",
    "version": 3
   },
   "file_extension": ".py",
   "mimetype": "text/x-python",
   "name": "python",
   "nbconvert_exporter": "python",
   "pygments_lexer": "ipython3",
   "version": "3.8.8"
  }
 },
 "nbformat": 4,
 "nbformat_minor": 5
}
