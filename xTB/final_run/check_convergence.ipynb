{
 "cells": [
  {
   "cell_type": "code",
   "execution_count": 9,
   "id": "bca30022-bf34-4447-9750-99aaf09899e8",
   "metadata": {},
   "outputs": [
    {
     "ename": "Error",
     "evalue": "Destination path '/home/aweiland/comparing_theories/xTB/final_run/imaginary_freq/xtb_20213402.xyz' already exists",
     "output_type": "error",
     "traceback": [
      "\u001b[0;31m---------------------------------------------------------------------------\u001b[0m",
      "\u001b[0;31mError\u001b[0m                                     Traceback (most recent call last)",
      "\u001b[0;32m<ipython-input-9-b32687fcee06>\u001b[0m in \u001b[0;36m<module>\u001b[0;34m\u001b[0m\n\u001b[1;32m     42\u001b[0m     \u001b[0mfile\u001b[0m \u001b[0;34m=\u001b[0m \u001b[0mmol\u001b[0m \u001b[0;34m+\u001b[0m \u001b[0;34m\".xyz\"\u001b[0m\u001b[0;34m\u001b[0m\u001b[0;34m\u001b[0m\u001b[0m\n\u001b[1;32m     43\u001b[0m     \u001b[0mxyz_file_path\u001b[0m \u001b[0;34m=\u001b[0m \u001b[0mos\u001b[0m\u001b[0;34m.\u001b[0m\u001b[0mpath\u001b[0m\u001b[0;34m.\u001b[0m\u001b[0mjoin\u001b[0m\u001b[0;34m(\u001b[0m\u001b[0mall_xyz_path\u001b[0m\u001b[0;34m,\u001b[0m \u001b[0mfile\u001b[0m\u001b[0;34m)\u001b[0m\u001b[0;34m\u001b[0m\u001b[0;34m\u001b[0m\u001b[0m\n\u001b[0;32m---> 44\u001b[0;31m     \u001b[0mshutil\u001b[0m\u001b[0;34m.\u001b[0m\u001b[0mmove\u001b[0m\u001b[0;34m(\u001b[0m\u001b[0mxyz_file_path\u001b[0m\u001b[0;34m,\u001b[0m \u001b[0mimaginary_path\u001b[0m\u001b[0;34m)\u001b[0m\u001b[0;34m\u001b[0m\u001b[0;34m\u001b[0m\u001b[0m\n\u001b[0m",
      "\u001b[0;32m/cm/shared/apps/spack/0.17.3/cpu/b/opt/spack/linux-rocky8-zen/gcc-8.5.0/anaconda3-2021.05-q4munrgvh7qp4o7r3nzcdkbuph4z7375/lib/python3.8/shutil.py\u001b[0m in \u001b[0;36mmove\u001b[0;34m(src, dst, copy_function)\u001b[0m\n\u001b[1;32m    787\u001b[0m         \u001b[0mreal_dst\u001b[0m \u001b[0;34m=\u001b[0m \u001b[0mos\u001b[0m\u001b[0;34m.\u001b[0m\u001b[0mpath\u001b[0m\u001b[0;34m.\u001b[0m\u001b[0mjoin\u001b[0m\u001b[0;34m(\u001b[0m\u001b[0mdst\u001b[0m\u001b[0;34m,\u001b[0m \u001b[0m_basename\u001b[0m\u001b[0;34m(\u001b[0m\u001b[0msrc\u001b[0m\u001b[0;34m)\u001b[0m\u001b[0;34m)\u001b[0m\u001b[0;34m\u001b[0m\u001b[0;34m\u001b[0m\u001b[0m\n\u001b[1;32m    788\u001b[0m         \u001b[0;32mif\u001b[0m \u001b[0mos\u001b[0m\u001b[0;34m.\u001b[0m\u001b[0mpath\u001b[0m\u001b[0;34m.\u001b[0m\u001b[0mexists\u001b[0m\u001b[0;34m(\u001b[0m\u001b[0mreal_dst\u001b[0m\u001b[0;34m)\u001b[0m\u001b[0;34m:\u001b[0m\u001b[0;34m\u001b[0m\u001b[0;34m\u001b[0m\u001b[0m\n\u001b[0;32m--> 789\u001b[0;31m             \u001b[0;32mraise\u001b[0m \u001b[0mError\u001b[0m\u001b[0;34m(\u001b[0m\u001b[0;34m\"Destination path '%s' already exists\"\u001b[0m \u001b[0;34m%\u001b[0m \u001b[0mreal_dst\u001b[0m\u001b[0;34m)\u001b[0m\u001b[0;34m\u001b[0m\u001b[0;34m\u001b[0m\u001b[0m\n\u001b[0m\u001b[1;32m    790\u001b[0m     \u001b[0;32mtry\u001b[0m\u001b[0;34m:\u001b[0m\u001b[0;34m\u001b[0m\u001b[0;34m\u001b[0m\u001b[0m\n\u001b[1;32m    791\u001b[0m         \u001b[0mos\u001b[0m\u001b[0;34m.\u001b[0m\u001b[0mrename\u001b[0m\u001b[0;34m(\u001b[0m\u001b[0msrc\u001b[0m\u001b[0;34m,\u001b[0m \u001b[0mreal_dst\u001b[0m\u001b[0;34m)\u001b[0m\u001b[0;34m\u001b[0m\u001b[0;34m\u001b[0m\u001b[0m\n",
      "\u001b[0;31mError\u001b[0m: Destination path '/home/aweiland/comparing_theories/xTB/final_run/imaginary_freq/xtb_20213402.xyz' already exists"
     ]
    }
   ],
   "source": [
    "import os\n",
    "import shutil\n",
    "\n",
    "not_converged = []\n",
    "\n",
    "for i in range(1,10):\n",
    "    batch_path = f\"/home/aweiland/comparing_theories/xTB/final_run/outputs/batch_{i}\"\n",
    "    all_xyz_path = \"/home/aweiland/comparing_theories/xTB/final_run/all_xyz\"\n",
    "\n",
    "\n",
    "\n",
    "    for directory in os.listdir(batch_path):\n",
    "        subdir = os.path.join(batch_path, directory)\n",
    "        for file in os.listdir(subdir):\n",
    "            if file.endswith(\".hess\"):\n",
    "                hess_file = os.path.join(subdir, file)\n",
    "\n",
    "                f = open(hess_file, \"r\")\n",
    "\n",
    "                line = next(f)\n",
    "\n",
    "                while line is not None:\n",
    "                    if line.strip() == \"$vibrational_frequencies\":\n",
    "                        num_atoms = int(next(f).strip())\n",
    "                        for _ in range(num_atoms):\n",
    "                            freq = next(f).split()[1]\n",
    "                            if freq.startswith(\"-\"):\n",
    "                                not_converged.append(file.strip(\".hess\"))\n",
    "                                break\n",
    "                        f.close()\n",
    "                        break\n",
    "\n",
    "                    line = next(f, None)\n",
    "            elif file.endswith(\".xyz\") and not (file.endswith(\"trj.xyz\")):\n",
    "                xyz_path = os.path.join(subdir, file)\n",
    "                shutil.copy(xyz_path, all_xyz_path)\n",
    "\n",
    "    imaginary_path = \"/home/aweiland/comparing_theories/xTB/final_run/imaginary_freq\"\n",
    "    all_xyz_path = \"/home/aweiland/comparing_theories/xTB/final_run/all_xyz\"\n",
    "\n",
    "for mol in not_converged:\n",
    "    file = mol + \".xyz\"\n",
    "    xyz_file_path = os.path.join(all_xyz_path, file)\n",
    "    shutil.move(xyz_file_path, imaginary_path)"
   ]
  },
  {
   "cell_type": "code",
   "execution_count": 8,
   "id": "2306cbb7-545b-455a-9fe6-e61a3286ba2d",
   "metadata": {},
   "outputs": [],
   "source": []
  },
  {
   "cell_type": "code",
   "execution_count": 18,
   "id": "8b218d8a-b60a-4dd8-80d9-0025641ef3e2",
   "metadata": {},
   "outputs": [
    {
     "name": "stdout",
     "output_type": "stream",
     "text": [
      "71\n"
     ]
    }
   ],
   "source": [
    "print(len(not_converged))"
   ]
  },
  {
   "cell_type": "code",
   "execution_count": 4,
   "id": "15e5e0cd-00ef-4316-adef-f760322a1938",
   "metadata": {},
   "outputs": [
    {
     "name": "stdout",
     "output_type": "stream",
     "text": [
      "good\n",
      "good\n",
      "good\n",
      "good\n",
      "good\n",
      "good\n",
      "good\n",
      "good\n",
      "good\n",
      "good\n",
      "good\n",
      "good\n",
      "good\n",
      "good\n",
      "good\n",
      "good\n",
      "good\n",
      "good\n",
      "good\n",
      "good\n",
      "good\n",
      "good\n",
      "good\n",
      "good\n",
      "good\n",
      "good\n",
      "good\n",
      "good\n",
      "good\n",
      "good\n",
      "good\n",
      "good\n",
      "good\n",
      "good\n",
      "good\n",
      "good\n",
      "good\n",
      "good\n",
      "good\n",
      "good\n",
      "good\n",
      "good\n",
      "good\n",
      "good\n",
      "good\n",
      "good\n",
      "good\n",
      "good\n",
      "good\n",
      "good\n",
      "good\n",
      "good\n",
      "good\n",
      "good\n",
      "good\n",
      "good\n",
      "good\n",
      "good\n",
      "good\n",
      "good\n",
      "good\n",
      "good\n",
      "good\n",
      "good\n",
      "good\n",
      "good\n",
      "good\n",
      "good\n",
      "good\n",
      "good\n",
      "good\n",
      "good\n"
     ]
    }
   ],
   "source": [
    "hess_file = \"//home/aweiland/comparing_theories/xTB/final_run/outputs/batch_0/xtb_30000600/xtb_30000600.hess\"\n",
    "\n",
    "f = open(hess_file, \"r\")\n",
    "\n",
    "line = next(f)\n",
    "\n",
    "while line is not None:\n",
    "    if line.strip() == \"$vibrational_frequencies\":\n",
    "        num_atoms = int(next(f).strip())\n",
    "        for _ in range(num_atoms):\n",
    "            freq = next(f).split()[1]\n",
    "            if freq.startswith(\"-\"):\n",
    "                print(\"not_converged\")\n",
    "                break\n",
    "        f.close()\n",
    "        break\n",
    "                \n",
    "    line = next(f, None)\n",
    "\n",
    "\n"
   ]
  },
  {
   "cell_type": "code",
   "execution_count": null,
   "id": "bc071be1-06eb-41ff-a494-49aff49a4219",
   "metadata": {},
   "outputs": [],
   "source": []
  }
 ],
 "metadata": {
  "kernelspec": {
   "display_name": "Python 3",
   "language": "python",
   "name": "python3"
  },
  "language_info": {
   "codemirror_mode": {
    "name": "ipython",
    "version": 3
   },
   "file_extension": ".py",
   "mimetype": "text/x-python",
   "name": "python",
   "nbconvert_exporter": "python",
   "pygments_lexer": "ipython3",
   "version": "3.8.8"
  }
 },
 "nbformat": 4,
 "nbformat_minor": 5
}
