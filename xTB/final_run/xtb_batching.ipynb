{
 "cells": [
  {
   "cell_type": "markdown",
   "id": "b13efb53-4365-468a-82a0-67a83ab4bc4b",
   "metadata": {},
   "source": [
    "# Puts all xtb inputs into batches "
   ]
  },
  {
   "cell_type": "code",
   "execution_count": 6,
   "id": "addd4c0f-e4f5-4f5a-867a-cf4b65f20722",
   "metadata": {},
   "outputs": [],
   "source": [
    "import os\n",
    "import shutil\n",
    "\n",
    "all_files = \"/home/aweiland/comparing_theories/xTB/input_files\"\n",
    "\n",
    "batch_size = 932\n",
    "\n",
    "output_directory = \"/home/aweiland/comparing_theories/xTB/final_run/batches_copy\"\n",
    "\n",
    "current_batch = 0\n",
    "\n",
    "current_mol = 0\n",
    "\n",
    "batch_directory = None\n",
    "\n",
    "for file in os.listdir(all_files):\n",
    "    if current_mol == 0:\n",
    "        batch_directory = os.path.join(output_directory, f\"batch_{current_batch}\")\n",
    "        \n",
    "        os.makedirs(batch_directory)\n",
    "        \n",
    "    file_path = os.path.join(all_files, file)\n",
    "    shutil.move(file_path, batch_directory)\n",
    "    current_mol += 1\n",
    "    \n",
    "    if current_mol == batch_size:\n",
    "        current_mol = 0\n",
    "        current_batch += 1\n",
    "\n",
    "\n"
   ]
  },
  {
   "cell_type": "code",
   "execution_count": 4,
   "id": "aa0f4d7a-cf4e-42f9-aea6-49980100830c",
   "metadata": {},
   "outputs": [
    {
     "name": "stdout",
     "output_type": "stream",
     "text": [
      "xtb_20097242.inp\n",
      "xtb_20026331.inp\n",
      "xtb_20208776.inp\n",
      "xtb_20182504.inp\n",
      "xtb_20026496.inp\n"
     ]
    }
   ],
   "source": [
    "import os\n",
    "i = 0\n",
    "all_files = \"/home/aweiland/comparing_theories/xTB/input_files\"\n",
    "\n",
    "for file in os.listdir(all_files):\n",
    "    print(file)\n",
    "    i += 1\n",
    "    if i == 5:\n",
    "        break"
   ]
  },
  {
   "cell_type": "code",
   "execution_count": null,
   "id": "386785ef-6fae-45fc-bb40-1b7bc0b9ee1a",
   "metadata": {},
   "outputs": [],
   "source": []
  },
  {
   "cell_type": "code",
   "execution_count": null,
   "id": "1ee88c3b-1258-4ce7-b61d-58278b7571b8",
   "metadata": {},
   "outputs": [],
   "source": []
  }
 ],
 "metadata": {
  "kernelspec": {
   "display_name": "Python 3",
   "language": "python",
   "name": "python3"
  },
  "language_info": {
   "codemirror_mode": {
    "name": "ipython",
    "version": 3
   },
   "file_extension": ".py",
   "mimetype": "text/x-python",
   "name": "python",
   "nbconvert_exporter": "python",
   "pygments_lexer": "ipython3",
   "version": "3.8.8"
  }
 },
 "nbformat": 4,
 "nbformat_minor": 5
}
