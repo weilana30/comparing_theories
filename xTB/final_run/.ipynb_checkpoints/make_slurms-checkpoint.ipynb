{
 "cells": [
  {
   "cell_type": "markdown",
   "id": "f576519a-44b8-48cf-bed6-d09f3ed814c2",
   "metadata": {},
   "source": [
    "# Creates slurm scripts for each batch"
   ]
  },
  {
   "cell_type": "code",
   "execution_count": 2,
   "id": "d874defd-e007-4b91-be96-c1211ef2d5d0",
   "metadata": {},
   "outputs": [],
   "source": [
    "import os\n",
    "output_dir = \"/home/aweiland/comparing_theories/xTB/final_run/slurm_scripts\"\n",
    "\n",
    "for i in range(8):\n",
    "    output_path = os.path.join(output_dir, f\"job_{i}.sh\")\n",
    "    f = open(output_path, \"w\")\n",
    "    f.write(\"#!/bin/bash\\n\")\n",
    "    f.write(\"#SBATCH --job-name=\\\"xtb_test\\\"\\n\")\n",
    "    f.write(\"#SBATCH --partition=shared\\n\")\n",
    "    f.write(\"#SBATCH --nodes=1\\n\")\n",
    "    f.write(\"#SBATCH --ntasks-per-node=16\\n\")\n",
    "    f.write(\"#SBATCH --mem=32G\\n\")\n",
    "    f.write(\"#SBATCH --account=slc154\\n\")\n",
    "    f.write(\"#SBATCH --export=ALL\\n\")\n",
    "    f.write(\"#SBATCH -t 2-00:00:00\\n\\n\")\n",
    "    f.write(\"source ~/.bashrc\\n\")\n",
    "    f.write(\"conda activate xtb\\n\")\n",
    "    f.write(\"module load cpu/0.15.4\\n\")\n",
    "    f.write(\"module load gcc/9.2.0\\n\")\n",
    "    f.write(\"module load openmpi/4.1.1\\n\\n\")\n",
    "    f.write(\"export MY_ORCA_WRAPPER=$SLURM_TMPDIR/orca_xtb_wrapper\\n\")\n",
    "    f.write(\"mkdir -p $MY_ORCA_WRAPPER\\n\\n\")\n",
    "    f.write(\"ORCA_BIN_DIR=/home/aweiland/comparing_theories/orca/orca_6_1_0_linux_x86-64_shared_openmpi418\\n\")\n",
    "    f.write(\"ln -s $ORCA_BIN_DIR/* $MY_ORCA_WRAPPER/\\n\\n\")\n",
    "    f.write(\"ln -s $(which xtb) $MY_ORCA_WRAPPER/xtb\\n\")\n",
    "    f.write(f\"INPUT_DIR=\\\"/home/aweiland/comparing_theories/xTB/final_run/batches/batch_{i}\\\"\\n\")\n",
    "    f.write(f\"OUTPUT_BASE=\\\"/home/aweiland/comparing_theories/xTB/final_run/outputs/batch_{i}\\\"\\n\")\n",
    "    f.write(\"mkdir -p \\\"$OUTPUT_BASE\\\"\\n\")\n",
    "    f.write(\"start_time=$(date +\\\"%s\\\")\\n\")\n",
    "    f.write(\"for file in ${INPUT_DIR}/*.inp; do\\n\")\n",
    "    f.write(\"   base=$(basename \\\"$file\\\" .inp)\\n\")\n",
    "    f.write(\"   OUTPUT_DIR=\\\"$OUTPUT_BASE/$base\\\"\\n\")\n",
    "    f.write(\"   mkdir -p \\\"$OUTPUT_DIR\\\"\\n\")\n",
    "    f.write(\"   cp \\\"$file\\\" \\\"$OUTPUT_DIR/\\\"\\n\")\n",
    "    f.write(\"   cd \\\"$OUTPUT_DIR\\\"\\n\")\n",
    "    f.write(\"   $MY_ORCA_WRAPPER/orca \\\"${base}.inp\\\" > \\\"${base}.out\\\"\\n\")\n",
    "    f.write(\"done\\n\")\n",
    "    f.write(\"end=$(date +\\\"%s\\\")\\n\")\n",
    "    f.write(\"total_time=$((end - start_time))\\n\")\n",
    "    f.write(\"echo \\\"The 50 molecules took $total_time seconds\\\"\\n\")\n",
    "    f.write(\"echo \\\"$base took $total_time seconds\\\" >> timing.log\\n\")\n",
    "        "
   ]
  },
  {
   "cell_type": "code",
   "execution_count": null,
   "id": "84be64b7-6870-456e-b622-4f5c664c5b73",
   "metadata": {},
   "outputs": [],
   "source": []
  }
 ],
 "metadata": {
  "kernelspec": {
   "display_name": "Python 3",
   "language": "python",
   "name": "python3"
  },
  "language_info": {
   "codemirror_mode": {
    "name": "ipython",
    "version": 3
   },
   "file_extension": ".py",
   "mimetype": "text/x-python",
   "name": "python",
   "nbconvert_exporter": "python",
   "pygments_lexer": "ipython3",
   "version": "3.8.8"
  }
 },
 "nbformat": 4,
 "nbformat_minor": 5
}
