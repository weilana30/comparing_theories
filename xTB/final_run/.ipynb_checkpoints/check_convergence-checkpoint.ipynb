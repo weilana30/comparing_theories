{
 "cells": [
  {
   "cell_type": "code",
   "execution_count": 2,
   "id": "bca30022-bf34-4447-9750-99aaf09899e8",
   "metadata": {},
   "outputs": [],
   "source": [
    "import os\n",
    "import shutil\n",
    "\n",
    "batch_path = \"/home/aweiland/comparing_theories/xTB/final_run/outputs/batch_0\"\n",
    "all_xyz_path = \"/home/aweiland/comparing_theories/xTB/final_run/all_xyz\"\n",
    "\n",
    "\n",
    "not_converged = []\n",
    "\n",
    "for directory in os.listdir(batch_path):\n",
    "    subdir = os.path.join(batch_path, directory)\n",
    "    for file in os.listdir(subdir):\n",
    "        if file.endswith(\".hess\"):\n",
    "            hess_file = os.path.join(subdir, file)\n",
    "\n",
    "            f = open(hess_file, \"r\")\n",
    "\n",
    "            line = next(f)\n",
    "\n",
    "            while line is not None:\n",
    "                if line.strip() == \"$vibrational_frequencies\":\n",
    "                    num_atoms = int(next(f).strip())\n",
    "                    for _ in range(num_atoms):\n",
    "                        freq = next(f).split()[1]\n",
    "                        if freq.startswith(\"-\"):\n",
    "                            not_converged.append(file.strip(\".hess\"))\n",
    "                            break\n",
    "                    f.close()\n",
    "                    break\n",
    "\n",
    "                line = next(f, None)\n",
    "        elif file.endswith(\".xyz\") and not (file.endswith(\"trj.xyz\")):\n",
    "            xyz_path = os.path.join(subdir, file)\n",
    "            shutil.copy(xyz_path, all_xyz_path)\n"
   ]
  },
  {
   "cell_type": "code",
   "execution_count": 17,
   "id": "2306cbb7-545b-455a-9fe6-e61a3286ba2d",
   "metadata": {},
   "outputs": [
    {
     "name": "stdout",
     "output_type": "stream",
     "text": [
      "['xtb_10025012', 'xtb_20180929', 'xtb_10018927', 'xtb_20208428', 'xtb_20171075', 'xtb_20052955', 'xtb_20026449', 'xtb_20165016', 'xtb_20054729', 'xtb_20026518', 'xtb_20177216', 'xtb_20170986', 'xtb_20218218', 'xtb_20167577', 'xtb_20175150', 'xtb_10018944', 'xtb_20191962', 'xtb_20180133', 'xtb_10021710', 'xtb_20213402', 'xtb_20208381', 'xtb_20172680', 'xtb_20180912', 'xtb_20000265', 'xtb_10018223', 'xtb_20171388', 'xtb_20208091', 'xtb_20025955', 'xtb_20176030', 'xtb_20181507', 'xtb_20171669', 'xtb_20109399', 'xtb_20025983', 'xtb_20026013', 'xtb_20051179', 'xtb_20122447', 'xtb_20181818', 'xtb_20142685', 'xtb_10023972', 'xtb_20044512', 'xtb_20218133', 'xtb_20233965', 'xtb_10006294', 'xtb_10015915', 'xtb_20050793', 'xtb_20209069', 'xtb_20208828', 'xtb_20242236', 'xtb_10017995', 'xtb_20172740', 'xtb_20208466', 'xtb_20172450', 'xtb_20181688', 'xtb_10017793', 'xtb_20213075', 'xtb_20026409', 'xtb_20246973', 'xtb_20173430', 'xtb_20209131', 'xtb_20045610', 'xtb_20145859', 'xtb_20212448', 'xtb_20169382', 'xtb_10008778', 'xtb_20053243', 'xtb_20227457', 'xtb_20133265', 'xtb_10018478', 'xtb_20171241', 'xtb_20171505', 'xtb_20174518']\n"
     ]
    }
   ],
   "source": [
    "print(not_converged)"
   ]
  },
  {
   "cell_type": "code",
   "execution_count": 18,
   "id": "8b218d8a-b60a-4dd8-80d9-0025641ef3e2",
   "metadata": {},
   "outputs": [
    {
     "name": "stdout",
     "output_type": "stream",
     "text": [
      "71\n"
     ]
    }
   ],
   "source": [
    "print(len(not_converged))"
   ]
  },
  {
   "cell_type": "code",
   "execution_count": 4,
   "id": "15e5e0cd-00ef-4316-adef-f760322a1938",
   "metadata": {},
   "outputs": [
    {
     "name": "stdout",
     "output_type": "stream",
     "text": [
      "good\n",
      "good\n",
      "good\n",
      "good\n",
      "good\n",
      "good\n",
      "good\n",
      "good\n",
      "good\n",
      "good\n",
      "good\n",
      "good\n",
      "good\n",
      "good\n",
      "good\n",
      "good\n",
      "good\n",
      "good\n",
      "good\n",
      "good\n",
      "good\n",
      "good\n",
      "good\n",
      "good\n",
      "good\n",
      "good\n",
      "good\n",
      "good\n",
      "good\n",
      "good\n",
      "good\n",
      "good\n",
      "good\n",
      "good\n",
      "good\n",
      "good\n",
      "good\n",
      "good\n",
      "good\n",
      "good\n",
      "good\n",
      "good\n",
      "good\n",
      "good\n",
      "good\n",
      "good\n",
      "good\n",
      "good\n",
      "good\n",
      "good\n",
      "good\n",
      "good\n",
      "good\n",
      "good\n",
      "good\n",
      "good\n",
      "good\n",
      "good\n",
      "good\n",
      "good\n",
      "good\n",
      "good\n",
      "good\n",
      "good\n",
      "good\n",
      "good\n",
      "good\n",
      "good\n",
      "good\n",
      "good\n",
      "good\n",
      "good\n"
     ]
    }
   ],
   "source": [
    "hess_file = \"//home/aweiland/comparing_theories/xTB/final_run/outputs/batch_0/xtb_30000600/xtb_30000600.hess\"\n",
    "\n",
    "f = open(hess_file, \"r\")\n",
    "\n",
    "line = next(f)\n",
    "\n",
    "while line is not None:\n",
    "    if line.strip() == \"$vibrational_frequencies\":\n",
    "        num_atoms = int(next(f).strip())\n",
    "        for _ in range(num_atoms):\n",
    "            freq = next(f).split()[1]\n",
    "            if freq.startswith(\"-\"):\n",
    "                print(\"not_converged\")\n",
    "                break\n",
    "        f.close()\n",
    "        break\n",
    "                \n",
    "    line = next(f, None)\n",
    "\n",
    "\n"
   ]
  },
  {
   "cell_type": "code",
   "execution_count": null,
   "id": "bc071be1-06eb-41ff-a494-49aff49a4219",
   "metadata": {},
   "outputs": [],
   "source": []
  }
 ],
 "metadata": {
  "kernelspec": {
   "display_name": "Python 3",
   "language": "python",
   "name": "python3"
  },
  "language_info": {
   "codemirror_mode": {
    "name": "ipython",
    "version": 3
   },
   "file_extension": ".py",
   "mimetype": "text/x-python",
   "name": "python",
   "nbconvert_exporter": "python",
   "pygments_lexer": "ipython3",
   "version": "3.8.8"
  }
 },
 "nbformat": 4,
 "nbformat_minor": 5
}
