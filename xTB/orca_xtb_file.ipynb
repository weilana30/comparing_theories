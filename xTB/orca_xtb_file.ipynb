{
 "cells": [
  {
   "cell_type": "markdown",
   "id": "82412784-ed43-433c-b4eb-53d2132c49a4",
   "metadata": {},
   "source": [
    "# Converts all xyz files into the correct orca input for xtb"
   ]
  },
  {
   "cell_type": "code",
   "execution_count": 2,
   "id": "dd1c0d26-91f4-4868-8a99-dacb73cd4b19",
   "metadata": {},
   "outputs": [],
   "source": [
    "import os\n",
    "import shutil\n",
    "\n",
    "xyz_files = \"/home/aweiland/comparing_theories/dft_geometries/dft_xyz_files\"\n",
    "\n",
    "output_path = \"/home/aweiland/comparing_theories/xTB/input_files\"\n",
    "\n",
    "\n",
    "for file in os.listdir(xyz_files):\n",
    "    if file.endswith(\".xyz\"):\n",
    "        file_num = file.strip(\"dft_\").strip(\".xyz\")\n",
    "        file_path = os.path.join(xyz_files, file)\n",
    "        f = open(file_path, \"r\")\n",
    "        coords = f.readlines()[2:]\n",
    "        f.close()\n",
    "\n",
    "        new_file = \"xtb_\" + file_num + \".inp\"\n",
    "        new_file_path = os.path.join(output_path, new_file)\n",
    "        writer = open(new_file_path, \"w\")\n",
    "        writer.write(\"! GFN2-XTB OPT NUMFREQ\\n\\n\")\n",
    "        writer.write(\"%pal\\n\")\n",
    "        writer.write(\"   nprocs 16\\n\")\n",
    "        writer.write(\"end\\n\\n\")\n",
    "        writer.write(\"%maxcore 2000\\n\\n\")\n",
    "        writer.write(\"* xyz 0 1\\n\")\n",
    "        writer.writelines(coords)\n",
    "        writer.write(\"*\\n\")\n",
    "        writer.close()\n",
    "    \n",
    "    \n",
    "    "
   ]
  },
  {
   "cell_type": "code",
   "execution_count": 6,
   "id": "5571f0e9-cdb3-4fb4-8256-b284b43d16c5",
   "metadata": {},
   "outputs": [
    {
     "name": "stdout",
     "output_type": "stream",
     "text": [
      "dft_20200715.xyz\n",
      "dft_20217999.xyz\n",
      "dft_20052957.xyz\n",
      "dft_20175574.xyz\n",
      "dft_20174493.xyz\n"
     ]
    }
   ],
   "source": [
    "import os\n",
    "import shutil\n",
    "\n",
    "xyz_files = \"/home/aweiland/comparing_theories/dft_geometries/dft_xyz_files\"\n",
    "\n",
    "i = 0\n",
    "for file in os.listdir(xyz_files):\n",
    "    print(file)\n",
    "    i += 1\n",
    "    if i == 5:\n",
    "        break\n"
   ]
  },
  {
   "cell_type": "code",
   "execution_count": null,
   "id": "2c266b8d-fe5a-4fe2-97b5-997a30428138",
   "metadata": {},
   "outputs": [],
   "source": []
  },
  {
   "cell_type": "code",
   "execution_count": null,
   "id": "55605105-8b2a-47fd-aa67-ee818aebd596",
   "metadata": {},
   "outputs": [],
   "source": []
  }
 ],
 "metadata": {
  "kernelspec": {
   "display_name": "Python 3",
   "language": "python",
   "name": "python3"
  },
  "language_info": {
   "codemirror_mode": {
    "name": "ipython",
    "version": 3
   },
   "file_extension": ".py",
   "mimetype": "text/x-python",
   "name": "python",
   "nbconvert_exporter": "python",
   "pygments_lexer": "ipython3",
   "version": "3.8.8"
  }
 },
 "nbformat": 4,
 "nbformat_minor": 5
}
