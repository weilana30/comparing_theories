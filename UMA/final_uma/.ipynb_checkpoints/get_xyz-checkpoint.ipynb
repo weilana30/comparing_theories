{
 "cells": [
  {
   "cell_type": "code",
   "execution_count": null,
   "id": "656e1647-b3cb-4813-b891-dfd13f129edb",
   "metadata": {},
   "outputs": [],
   "source": [
    "import pandas as pd\n",
    "df = pd.read_csv(\"/home/aweiland/comparing_theories/5k_mol_stats.csv\")\n",
    "df[\"uma_runtime\"] = None\n",
    "df.head()"
   ]
  },
  {
   "cell_type": "code",
   "execution_count": 2,
   "id": "6ab85afa-e32a-4ed7-a623-2d95301f0cea",
   "metadata": {
    "tags": []
   },
   "outputs": [],
   "source": [
    "import os\n",
    "from ase.io import Trajectory\n",
    "\n",
    "\n",
    "batch_path = f\"/home/aweiland/comparing_theories/UMA/final_uma/outputs\"\n",
    "\n",
    "all_xyz_path = \"/home/aweiland/comparing_theories/UMA/final_uma/uma_xyz\"\n",
    "\n",
    "for directory in os.listdir(batch_path):\n",
    "        subdir = os.path.join(batch_path, directory)\n",
    "        file = os.path.join(subdir, \"opt.traj\")\n",
    "        try:\n",
    "            traj = Trajectory(file)\n",
    "        except:\n",
    "            print(directory)\n",
    "            continue\n",
    "        atoms = traj[-1]\n",
    "\n",
    "\n",
    "        positions = atoms.get_positions()  # shape: (n_atoms, 3)\n",
    "        final_positions = []\n",
    "\n",
    "        for row in positions:\n",
    "            fixed_row = [float(coord) for coord in row]  \n",
    "            final_positions.append(fixed_row)\n",
    "\n",
    "\n",
    "        symbols = atoms.get_chemical_symbols()\n",
    "\n",
    "        mol_id = directory.strip(\"mol_\")\n",
    "\n",
    "        output_file = os.path.join(all_xyz_path, \"uma_\" + mol_id + \".xyz\")\n",
    "        f = open(output_file, \"w\")\n",
    "        f.write(str(len(symbols))+ \"\\n\\n\")\n",
    "\n",
    "        for i in range(len(symbols)):\n",
    "            f.write(symbols[i] + \"   \" + str(final_positions[i][0]) \n",
    "                    + \"   \" + str(final_positions[i][1]) + \"   \" \n",
    "                    + str(final_positions[i][2]) + \"\\n\")\n",
    "        f.close()\n",
    "\n",
    "\n"
   ]
  },
  {
   "cell_type": "code",
   "execution_count": null,
   "id": "6264f5dd-b59f-42c6-b1f7-c4145c97b80d",
   "metadata": {},
   "outputs": [],
   "source": []
  }
 ],
 "metadata": {
  "kernelspec": {
   "display_name": "Python (egret-env)",
   "language": "python",
   "name": "egret-env"
  },
  "language_info": {
   "codemirror_mode": {
    "name": "ipython",
    "version": 3
   },
   "file_extension": ".py",
   "mimetype": "text/x-python",
   "name": "python",
   "nbconvert_exporter": "python",
   "pygments_lexer": "ipython3",
   "version": "3.12.11"
  }
 },
 "nbformat": 4,
 "nbformat_minor": 5
}
