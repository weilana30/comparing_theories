{
 "cells": [
  {
   "cell_type": "code",
   "execution_count": 3,
   "id": "1b15609e-c80a-4d22-8a1f-ab383dd5f9a8",
   "metadata": {},
   "outputs": [],
   "source": [
    "#Script to get the time taken for all egret calculations and put them\n",
    "#into a dataframe\n",
    "import pandas as pd\n",
    "\n",
    "df = pd.DataFrame()\n",
    "df[\"mol_id\"] = None\n",
    "df[\"uma_time\"] = None\n",
    "\n",
    "\n",
    "import os\n",
    "from datetime import datetime\n",
    "\n",
    "batch_dir_path = \"/home/aweiland/comparing_theories/UMA/benchmark_uma/outputs\"\n",
    "\n",
    "\n",
    "\n",
    "for sub_dir in os.listdir(batch_dir_path):\n",
    "\n",
    "    mol_id = sub_dir.strip(\"mol_\")\n",
    "\n",
    "    sub_dir_path = os.path.join(batch_dir_path, sub_dir)\n",
    "\n",
    "    log_dir = os.path.join(sub_dir_path, \"opt.log\")\n",
    "\n",
    "\n",
    "    with open(log_dir, \"r\") as f:\n",
    "        lines = f.readlines()\n",
    "        try:\n",
    "            start = lines[1].split()[2]\n",
    "            end = lines[-1].split()[2]\n",
    "        except IndexError:\n",
    "            pass\n",
    "\n",
    "\n",
    "\n",
    "        fmt = \"%H:%M:%S\"\n",
    "        t1 = datetime.strptime(start, fmt)\n",
    "        t2 = datetime.strptime(end, fmt)\n",
    "\n",
    "        #handles situation where job starts one day and ends another \n",
    "        #which could create a negative time\n",
    "        if start[0] == \"2\" and end[0] == \"0\":\n",
    "            start = \"1-\" + start\n",
    "            end = \"2-\" + end\n",
    "            fmt = \"%d-%H:%M:%S\"\n",
    "            t1 = datetime.strptime(start, fmt)\n",
    "            t2 = datetime.strptime(end, fmt)\n",
    "\n",
    "\n",
    "        delta = t2 - t1\n",
    "\n",
    "        seconds = delta.total_seconds()\n",
    "\n",
    "        df = df.append({\"mol_id\": mol_id, \"uma_time\": seconds}, ignore_index=True)\n",
    "\n",
    "\n",
    "\n"
   ]
  },
  {
   "cell_type": "code",
   "execution_count": 7,
   "id": "2a1cfbbb-c035-4a0a-967d-9361a0e41c94",
   "metadata": {},
   "outputs": [],
   "source": [
    "df.to_csv(\"uma_stats.csv\")"
   ]
  },
  {
   "cell_type": "code",
   "execution_count": null,
   "id": "67c103e5-e6fa-4dae-8103-3a17308a6d3b",
   "metadata": {},
   "outputs": [],
   "source": []
  }
 ],
 "metadata": {
  "kernelspec": {
   "display_name": "Python 3",
   "language": "python",
   "name": "python3"
  },
  "language_info": {
   "codemirror_mode": {
    "name": "ipython",
    "version": 3
   },
   "file_extension": ".py",
   "mimetype": "text/x-python",
   "name": "python",
   "nbconvert_exporter": "python",
   "pygments_lexer": "ipython3",
   "version": "3.8.8"
  }
 },
 "nbformat": 4,
 "nbformat_minor": 5
}
