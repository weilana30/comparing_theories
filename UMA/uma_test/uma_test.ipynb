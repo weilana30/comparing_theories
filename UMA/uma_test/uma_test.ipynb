{
 "cells": [
  {
   "cell_type": "code",
   "execution_count": 2,
   "id": "47b0dc7c-d440-4d34-9c0a-8bf4e5296eb7",
   "metadata": {},
   "outputs": [
    {
     "name": "stderr",
     "output_type": "stream",
     "text": [
      "/home/aweiland/.conda/envs/egret-env/lib/python3.12/site-packages/tqdm/auto.py:21: TqdmWarning: IProgress not found. Please update jupyter and ipywidgets. See https://ipywidgets.readthedocs.io/en/stable/user_install.html\n",
      "  from .autonotebook import tqdm as notebook_tqdm\n",
      "/home/aweiland/.conda/envs/egret-env/lib/python3.12/site-packages/torchtnt/utils/version.py:12: UserWarning: pkg_resources is deprecated as an API. See https://setuptools.pypa.io/en/latest/pkg_resources.html. The pkg_resources package is slated for removal as early as 2025-11-30. Refrain from using this package or pin to Setuptools<81.\n",
      "  import pkg_resources\n"
     ]
    },
    {
     "name": "stdout",
     "output_type": "stream",
     "text": [
      "cuequivariance or cuequivariance_torch is not available. Cuequivariance acceleration will be disabled.\n"
     ]
    }
   ],
   "source": [
    "from ase.build import fcc100, add_adsorbate, molecule\n",
    "from fairchem.core import pretrained_mlip, FAIRChemCalculator\n",
    "import ase.io\n",
    "from ase.optimize import BFGS\n",
    "import torch\n",
    "from ase.calculators.calculator import all_changes\n",
    "from mace.calculators import mace_off\n",
    "from ase.io import Trajectory\n",
    "\n"
   ]
  },
  {
   "cell_type": "code",
   "execution_count": 3,
   "id": "96e53757-2eb1-42bd-8e04-30b3cdb7defe",
   "metadata": {},
   "outputs": [],
   "source": [
    "test_file = \"/home/aweiland/comparing_theories/dft_geometries/dft_xyz_files/dft_20071924.xyz\"\n",
    "\n",
    "atoms = ase.io.read(test_file, format=\"xyz\")"
   ]
  },
  {
   "cell_type": "code",
   "execution_count": null,
   "id": "b1a6c98b-4815-4ff9-bf75-1437514bf372",
   "metadata": {},
   "outputs": [
    {
     "name": "stderr",
     "output_type": "stream",
     "text": [
      "/home/aweiland/.conda/envs/egret-env/lib/python3.12/site-packages/fairchem/core/models/uma/escn_md.py:130: UserWarning: Environment variable TORCH_FORCE_NO_WEIGHTS_ONLY_LOAD detected, since the`weights_only` argument was not explicitly passed to `torch.load`, forcing weights_only=False.\n",
      "  Jd_list = torch.load(os.path.join(os.path.dirname(__file__), \"Jd.pt\"))\n"
     ]
    }
   ],
   "source": [
    "predictor = pretrained_mlip.get_predict_unit(\"uma-s-1\", device=\"cpu\")  # or \"cuda\" if GPU available\n",
    "atoms.calc = predictor\n"
   ]
  },
  {
   "cell_type": "code",
   "execution_count": null,
   "id": "c58e16ea-9962-4ccb-8168-31cffd58c611",
   "metadata": {},
   "outputs": [],
   "source": [
    "traj = Trajectory('opt.traj', 'w', atoms)\n",
    "opt = BFGS(atoms, trajectory=traj)\n",
    "\n",
    "opt = BFGS(atoms, logfile=\"opt.log\")\n",
    "opt.run(fmax=0.01)"
   ]
  }
 ],
 "metadata": {
  "kernelspec": {
   "display_name": "Python (egret-env)",
   "language": "python",
   "name": "egret-env"
  },
  "language_info": {
   "codemirror_mode": {
    "name": "ipython",
    "version": 3
   },
   "file_extension": ".py",
   "mimetype": "text/x-python",
   "name": "python",
   "nbconvert_exporter": "python",
   "pygments_lexer": "ipython3",
   "version": "3.12.11"
  }
 },
 "nbformat": 4,
 "nbformat_minor": 5
}
