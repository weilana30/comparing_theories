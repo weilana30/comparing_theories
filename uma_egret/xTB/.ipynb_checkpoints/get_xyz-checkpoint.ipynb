{
 "cells": [
  {
   "cell_type": "code",
   "execution_count": 3,
   "id": "0a1a31ab-ddfd-4af6-974a-d411eff0731a",
   "metadata": {},
   "outputs": [],
   "source": [
    "import os\n",
    "from ase.io import Trajectory\n",
    "\n",
    "\n",
    "batch_path = f\"/home/aweiland/comparing_theories/uma_egret/xTB/comparing_theories/uma_egret/xTB/outputs\"\n",
    "\n",
    "all_xyz_path = \"/home/aweiland/comparing_theories/uma_egret/xTB/xtb_xyz_files\"\n",
    "\n",
    "for directory in os.listdir(batch_path):\n",
    "        subdir = os.path.join(batch_path, directory)\n",
    "        file = os.path.join(subdir, \"opt.traj\")\n",
    "        try:\n",
    "            traj = Trajectory(file)\n",
    "        except:\n",
    "            print(directory)\n",
    "            continue\n",
    "        atoms = traj[-1]\n",
    "\n",
    "\n",
    "        positions = atoms.get_positions()  # shape: (n_atoms, 3)\n",
    "        final_positions = []\n",
    "\n",
    "        for row in positions:\n",
    "            fixed_row = [float(coord) for coord in row]  \n",
    "            final_positions.append(fixed_row)\n",
    "\n",
    "\n",
    "        symbols = atoms.get_chemical_symbols()\n",
    "\n",
    "        mol_id = directory.strip(\"mol_\")\n",
    "\n",
    "        output_file = os.path.join(all_xyz_path, \"uma_\" + mol_id + \".xyz\")\n",
    "        f = open(output_file, \"w\")\n",
    "        f.write(str(len(symbols))+ \"\\n\\n\")\n",
    "\n",
    "        for i in range(len(symbols)):\n",
    "            f.write(symbols[i] + \"   \" + str(final_positions[i][0]) \n",
    "                    + \"   \" + str(final_positions[i][1]) + \"   \" \n",
    "                    + str(final_positions[i][2]) + \"\\n\")\n",
    "        f.close()\n",
    "\n",
    "\n"
   ]
  },
  {
   "cell_type": "code",
   "execution_count": null,
   "id": "26758499-0336-48c8-a8ad-e78ae80e3b80",
   "metadata": {},
   "outputs": [],
   "source": []
  },
  {
   "cell_type": "code",
   "execution_count": null,
   "id": "e27408f5-4faf-4d64-a53d-5fa04f8c5ec0",
   "metadata": {},
   "outputs": [],
   "source": []
  }
 ],
 "metadata": {
  "kernelspec": {
   "display_name": "Python (egret-env)",
   "language": "python",
   "name": "egret-env"
  },
  "language_info": {
   "codemirror_mode": {
    "name": "ipython",
    "version": 3
   },
   "file_extension": ".py",
   "mimetype": "text/x-python",
   "name": "python",
   "nbconvert_exporter": "python",
   "pygments_lexer": "ipython3",
   "version": "3.12.11"
  }
 },
 "nbformat": 4,
 "nbformat_minor": 5
}
