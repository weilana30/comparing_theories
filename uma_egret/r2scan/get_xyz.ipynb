{
 "cells": [
  {
   "cell_type": "code",
   "execution_count": 1,
   "id": "8aeb54ee-9392-4b6b-a7eb-74df9e6c0027",
   "metadata": {},
   "outputs": [],
   "source": [
    "import os\n",
    "from ase.io import Trajectory\n",
    "\n",
    "\n",
    "batch_path = f\"/home/aweiland/comparing_theories/uma_egret/r2scan/outputs\"\n",
    "\n",
    "all_xyz_path = \"/home/aweiland/comparing_theories/uma_egret/r2scan/r2_xyz_files\"\n",
    "\n",
    "for directory in os.listdir(batch_path):\n",
    "        subdir = os.path.join(batch_path, directory)\n",
    "        file = os.path.join(subdir, \"opt.traj\")\n",
    "        try:\n",
    "            traj = Trajectory(file)\n",
    "        except:\n",
    "            print(directory)\n",
    "            continue\n",
    "        atoms = traj[-1]\n",
    "\n",
    "\n",
    "        positions = atoms.get_positions()  # shape: (n_atoms, 3)\n",
    "        final_positions = []\n",
    "\n",
    "        for row in positions:\n",
    "            fixed_row = [float(coord) for coord in row]  \n",
    "            final_positions.append(fixed_row)\n",
    "\n",
    "\n",
    "        symbols = atoms.get_chemical_symbols()\n",
    "\n",
    "        mol_id = directory.strip(\"mol_\")\n",
    "\n",
    "        output_file = os.path.join(all_xyz_path, \"uma_\" + mol_id + \".xyz\")\n",
    "        f = open(output_file, \"w\")\n",
    "        f.write(str(len(symbols))+ \"\\n\\n\")\n",
    "\n",
    "        for i in range(len(symbols)):\n",
    "            f.write(symbols[i] + \"   \" + str(final_positions[i][0]) \n",
    "                    + \"   \" + str(final_positions[i][1]) + \"   \" \n",
    "                    + str(final_positions[i][2]) + \"\\n\")\n",
    "        f.close()\n",
    "\n",
    "\n"
   ]
  },
  {
   "cell_type": "code",
   "execution_count": null,
   "id": "231e9640-f09e-4922-80a3-60e6aa481c58",
   "metadata": {},
   "outputs": [],
   "source": []
  },
  {
   "cell_type": "code",
   "execution_count": null,
   "id": "6445fa05-b4b4-49d3-98ae-babf4b5e3d3b",
   "metadata": {},
   "outputs": [],
   "source": []
  }
 ],
 "metadata": {
  "kernelspec": {
   "display_name": "Python (egret-env)",
   "language": "python",
   "name": "egret-env"
  },
  "language_info": {
   "codemirror_mode": {
    "name": "ipython",
    "version": 3
   },
   "file_extension": ".py",
   "mimetype": "text/x-python",
   "name": "python",
   "nbconvert_exporter": "python",
   "pygments_lexer": "ipython3",
   "version": "3.12.11"
  }
 },
 "nbformat": 4,
 "nbformat_minor": 5
}
