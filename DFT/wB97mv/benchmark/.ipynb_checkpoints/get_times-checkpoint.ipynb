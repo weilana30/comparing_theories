{
 "cells": [
  {
   "cell_type": "code",
   "execution_count": 7,
   "id": "f898a2ba-d9ea-420c-9ea0-a02290cbc4b9",
   "metadata": {},
   "outputs": [],
   "source": [
    "import os\n",
    "import pandas as pd\n",
    "df = pd.DataFrame()\n",
    "df[\"mol_id\"] = None\n",
    "df[\"time\"] = None\n",
    "\n",
    "batch_dir = \"/home/aweiland/comparing_theories/DFT/wB97mv/benchmark/outputs/batch_0\"\n",
    "\n",
    "for subdir in os.listdir(batch_dir):\n",
    "    mol_id = subdir.strip(\"B3LYP_\").strip(\".inp\")\n",
    "    \n",
    "    time_path = os.path.join(batch_dir, subdir + \"/runtime.txt\")\n",
    "    f = open(time_path, \"r\")\n",
    "    lines = f.readlines()\n",
    "    f.close()\n",
    "    for line in lines:\n",
    "        if \"real\" in line:\n",
    "            time = float(line.split()[1].strip())\n",
    "            df.loc[len(df)] = [mol_id, time]\n",
    "            break"
   ]
  },
  {
   "cell_type": "code",
   "execution_count": 4,
   "id": "ab0768e3-6117-4fff-ad54-837d962f6198",
   "metadata": {},
   "outputs": [
    {
     "data": {
      "text/html": [
       "<div>\n",
       "<style scoped>\n",
       "    .dataframe tbody tr th:only-of-type {\n",
       "        vertical-align: middle;\n",
       "    }\n",
       "\n",
       "    .dataframe tbody tr th {\n",
       "        vertical-align: top;\n",
       "    }\n",
       "\n",
       "    .dataframe thead th {\n",
       "        text-align: right;\n",
       "    }\n",
       "</style>\n",
       "<table border=\"1\" class=\"dataframe\">\n",
       "  <thead>\n",
       "    <tr style=\"text-align: right;\">\n",
       "      <th></th>\n",
       "      <th>mol_id</th>\n",
       "      <th>time</th>\n",
       "    </tr>\n",
       "  </thead>\n",
       "  <tbody>\n",
       "    <tr>\n",
       "      <th>0</th>\n",
       "      <td>20209497</td>\n",
       "      <td>681.88</td>\n",
       "    </tr>\n",
       "    <tr>\n",
       "      <th>1</th>\n",
       "      <td>20234091</td>\n",
       "      <td>1062.58</td>\n",
       "    </tr>\n",
       "    <tr>\n",
       "      <th>2</th>\n",
       "      <td>88809</td>\n",
       "      <td>727.16</td>\n",
       "    </tr>\n",
       "    <tr>\n",
       "      <th>3</th>\n",
       "      <td>8848</td>\n",
       "      <td>2176.91</td>\n",
       "    </tr>\n",
       "    <tr>\n",
       "      <th>4</th>\n",
       "      <td>20209225</td>\n",
       "      <td>716.68</td>\n",
       "    </tr>\n",
       "  </tbody>\n",
       "</table>\n",
       "</div>"
      ],
      "text/plain": [
       "     mol_id     time\n",
       "0  20209497   681.88\n",
       "1  20234091  1062.58\n",
       "2     88809   727.16\n",
       "3      8848  2176.91\n",
       "4  20209225   716.68"
      ]
     },
     "execution_count": 4,
     "metadata": {},
     "output_type": "execute_result"
    }
   ],
   "source": [
    "df.head()"
   ]
  },
  {
   "cell_type": "code",
   "execution_count": 8,
   "id": "9d4d89f9-041d-4923-91a2-83dfc0df77fb",
   "metadata": {},
   "outputs": [
    {
     "name": "stdout",
     "output_type": "stream",
     "text": [
      "1073.042\n"
     ]
    }
   ],
   "source": [
    "print(df[\"time\"].mean())"
   ]
  },
  {
   "cell_type": "code",
   "execution_count": null,
   "id": "4a1c811a-c95c-4c59-a5db-d939a77fa382",
   "metadata": {},
   "outputs": [],
   "source": []
  }
 ],
 "metadata": {
  "kernelspec": {
   "display_name": "Python 3",
   "language": "python",
   "name": "python3"
  },
  "language_info": {
   "codemirror_mode": {
    "name": "ipython",
    "version": 3
   },
   "file_extension": ".py",
   "mimetype": "text/x-python",
   "name": "python",
   "nbconvert_exporter": "python",
   "pygments_lexer": "ipython3",
   "version": "3.8.8"
  }
 },
 "nbformat": 4,
 "nbformat_minor": 5
}
