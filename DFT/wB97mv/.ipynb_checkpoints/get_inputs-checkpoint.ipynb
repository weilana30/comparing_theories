{
 "cells": [
  {
   "cell_type": "code",
   "execution_count": 5,
   "id": "1a7e9971-d587-4264-8332-02e32c4e868c",
   "metadata": {},
   "outputs": [],
   "source": [
    "import os\n",
    "from more_itertools import sample\n",
    "from pathlib import Path\n",
    "\n",
    "all_files = Path(\"/home/aweiland/comparing_theories/aimnet/aimnet_xyz_files\")\n",
    "output_path = \"/home/aweiland/gnn/single_point_calc/benchmark/inputs\"\n",
    "\n",
    "random_files = sample(\n",
    "    (p for p in all_files.iterdir() if p.is_file() and not p.name.startswith(\".\")),\n",
    "    100\n",
    ")\n",
    "\n",
    "for file_path in random_files:\n",
    "    filename = file_path.name  # Get just the filename, not the full path\n",
    "    if filename.endswith(\".xyz\"):\n",
    "        # remove prefix \"dft_\" and suffix \".xyz\"\n",
    "        # Use removeprefix if Python >= 3.9\n",
    "        if filename.startswith(\"dft_\"):\n",
    "            file_num = filename.removeprefix(\"dft_\").removesuffix(\".xyz\")\n",
    "        else:\n",
    "            file_num = filename[:-4]  # remove .xyz if no prefix\n",
    "\n",
    "        with open(file_path, \"r\") as f:\n",
    "            coords = f.readlines()[2:]\n",
    "\n",
    "        new_file = f\"M06_{file_num}.inp\"\n",
    "        new_file_path = os.path.join(output_path, new_file)\n",
    "\n",
    "        with open(new_file_path, \"w\") as writer:\n",
    "            writer.write(\"! M062X D3zero def2-TZVP SP\\n\\n\")\n",
    "            writer.write(\"%pal\\n\")\n",
    "            writer.write(\"   nprocs 8\\n\")\n",
    "            writer.write(\"end\\n\\n\")\n",
    "            writer.write(\"%maxcore 2000\\n\\n\")\n",
    "            writer.write(\"* xyz 0 1\\n\")\n",
    "            writer.writelines(coords)\n",
    "            writer.write(\"*\\n\")\n"
   ]
  },
  {
   "cell_type": "code",
   "execution_count": null,
   "id": "51f19f86-397b-44aa-98b8-dd6707581900",
   "metadata": {},
   "outputs": [],
   "source": []
  }
 ],
 "metadata": {
  "kernelspec": {
   "display_name": "Python 3",
   "language": "python",
   "name": "python3"
  },
  "language_info": {
   "codemirror_mode": {
    "name": "ipython",
    "version": 3
   },
   "file_extension": ".py",
   "mimetype": "text/x-python",
   "name": "python",
   "nbconvert_exporter": "python",
   "pygments_lexer": "ipython3",
   "version": "3.8.8"
  }
 },
 "nbformat": 4,
 "nbformat_minor": 5
}
