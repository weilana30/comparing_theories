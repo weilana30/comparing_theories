{
 "cells": [
  {
   "cell_type": "code",
   "execution_count": 1,
   "id": "b6d1f1ec-3cd9-43ec-9934-81d59d48fd1f",
   "metadata": {},
   "outputs": [],
   "source": [
    "import os\n",
    "\n",
    "output_dir = \"/home/aweiland/comparing_theories/DFT/wB97mv/final_run/slurm_scripts\"\n",
    "\n",
    "for i in range(0, 62):\n",
    "    output_path = os.path.join(output_dir, f\"job_{i}.sh\")\n",
    "    with open(output_path, \"w\") as f:\n",
    "        f.write(\"#!/bin/bash\\n\")\n",
    "        f.write(\"#SBATCH --job-name=\\\"wB97mv_calc\\\"\\n\")\n",
    "        f.write(\"#SBATCH --partition=shared\\n\")\n",
    "        f.write(\"#SBATCH --nodes=1\\n\")\n",
    "        f.write(\"#SBATCH --ntasks-per-node=16\\n\")\n",
    "        f.write(\"#SBATCH --mem=32G\\n\")\n",
    "        f.write(\"#SBATCH --account=slc154\\n\")\n",
    "        f.write(\"#SBATCH --export=ALL\\n\")\n",
    "        f.write(\"#SBATCH -t 2-00:00:00\\n\\n\")\n",
    "        f.write(\"source ~/.bashrc\\n\")\n",
    "        f.write(\"module load cpu/0.15.4\\n\")\n",
    "        f.write(\"module load gcc/9.2.0\\n\")\n",
    "        f.write(\"module load openmpi/4.1.1\\n\\n\")\n",
    "        f.write(\"SCRATCH=\\\"/scratch/$USER/job_$SLURM_JOB_ID\\\"\\n\\n\")\n",
    "        f.write(\"mkdir -p \\\"$SCRATCH\\\"\\n\")\n",
    "        f.write(\"mkdir -p \\\"$SCRATCH/outputs\\\"\\n\\n\")\n",
    "        f.write(f\"cp -r /home/aweiland/comparing_theories/DFT/wB97mv/final_run/batches/batch_{i} \\\"$SCRATCH/\\\"\\n\\n\")\n",
    "        f.write(f\"cd \\\"$SCRATCH/batch_{i}\\\"\\n\\n\")\n",
    "        f.write(\"for file in *.inp; do\\n\")\n",
    "        f.write(\"    echo \\\"DEBUG: Running ORCA on file '$file'\\\"\\n\")\n",
    "        f.write(\"    mol_num=$(basename \\\"$file\\\" .inp)\\n\")\n",
    "        f.write(f\"    mkdir -p \\\"$SCRATCH/outputs/batch_{i}/$mol_num\\\"\\n\")\n",
    "        f.write(f\"    /usr/bin/time -p /home/aweiland/comparing_theories/orca/orca_6_1_0_linux_x86-64_shared_openmpi418/orca \\\"$file\\\" > \\\"$SCRATCH/outputs/batch_{i}/$mol_num/${{mol_num}}.out\\\" 2> \\\"$SCRATCH/outputs/batch_{i}/$mol_num/runtime.txt\\\"\\n\")\n",
    "        f.write(\"done\\n\\n\")\n",
    "        f.write(f\"mkdir -p /home/aweiland/comparing_theories/DFT/wB97mv/final_run/outputs/batch_{i}\\n\")\n",
    "        f.write(f\"cp -r \\\"$SCRATCH/outputs/batch_{i}\\\"/* /home/aweiland/comparing_theories/DFT/wB97mv/final_run/outputs/batch_{i}\\n\")\n",
    "        f.close()\n"
   ]
  },
  {
   "cell_type": "code",
   "execution_count": null,
   "id": "c03f9965-bf45-40e8-a383-304f11eeb662",
   "metadata": {},
   "outputs": [],
   "source": []
  }
 ],
 "metadata": {
  "kernelspec": {
   "display_name": "Python 3",
   "language": "python",
   "name": "python3"
  },
  "language_info": {
   "codemirror_mode": {
    "name": "ipython",
    "version": 3
   },
   "file_extension": ".py",
   "mimetype": "text/x-python",
   "name": "python",
   "nbconvert_exporter": "python",
   "pygments_lexer": "ipython3",
   "version": "3.8.8"
  }
 },
 "nbformat": 4,
 "nbformat_minor": 5
}
