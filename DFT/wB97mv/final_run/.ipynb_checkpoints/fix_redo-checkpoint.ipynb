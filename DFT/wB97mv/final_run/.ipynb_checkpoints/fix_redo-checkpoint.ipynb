{
 "cells": [
  {
   "cell_type": "code",
   "execution_count": 13,
   "id": "7ff4f4c5-2ccd-45fd-9472-0f7b86c80e3d",
   "metadata": {},
   "outputs": [],
   "source": [
    "import os\n",
    "import shutil\n",
    "\n",
    "all_files = \"/home/aweiland/comparing_theories/DFT/wB97mv/final_run/redo_batches_og\"\n",
    "\n",
    "output_directory = \"/home/aweiland/comparing_theories/DFT/wB97mv/final_run/redo_batches\"\n",
    "\n",
    "batch_size = 70\n",
    "\n",
    "current_batch = 0\n",
    "\n",
    "current_mol = 0\n",
    "\n",
    "batch_directory = None\n",
    "\n",
    "\n",
    "for dirname, dirpath, files in os.walk(all_files):\n",
    "    if dirname.endswith(\"og\"):\n",
    "        continue\n",
    "        \n",
    "    for file in files:\n",
    "        if current_mol == 0:\n",
    "            batch_directory = os.path.join(output_directory, f\"batch_{current_batch}\")\n",
    "\n",
    "            os.makedirs(batch_directory)\n",
    "\n",
    "        file_path = os.path.join(dirname, file)\n",
    "        shutil.copy(file_path, batch_directory)\n",
    "        current_mol += 1\n",
    "\n",
    "        if current_mol == batch_size:\n",
    "            current_mol = 0\n",
    "            current_batch += 1\n",
    "\n",
    "    \n",
    "    "
   ]
  },
  {
   "cell_type": "code",
   "execution_count": null,
   "id": "12242577-4c42-4363-bb70-9f491e202e6a",
   "metadata": {},
   "outputs": [],
   "source": []
  }
 ],
 "metadata": {
  "kernelspec": {
   "display_name": "Python 3",
   "language": "python",
   "name": "python3"
  },
  "language_info": {
   "codemirror_mode": {
    "name": "ipython",
    "version": 3
   },
   "file_extension": ".py",
   "mimetype": "text/x-python",
   "name": "python",
   "nbconvert_exporter": "python",
   "pygments_lexer": "ipython3",
   "version": "3.8.8"
  }
 },
 "nbformat": 4,
 "nbformat_minor": 5
}
