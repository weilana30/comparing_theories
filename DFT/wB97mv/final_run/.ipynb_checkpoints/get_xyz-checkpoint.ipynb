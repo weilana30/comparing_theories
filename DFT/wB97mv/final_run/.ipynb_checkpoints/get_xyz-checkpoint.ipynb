{
 "cells": [
  {
   "cell_type": "code",
   "execution_count": null,
   "id": "e9368523-8761-4378-a5b1-67472cbab400",
   "metadata": {},
   "outputs": [
    {
     "name": "stdout",
     "output_type": "stream",
     "text": [
      "/home/aweiland/comparing_theories/DFT/wB97mv/final_run/outputs/batch_37/wB97M_20092122/wB97M_20092122.out\n",
      "/home/aweiland/comparing_theories/DFT/wB97mv/final_run/outputs/batch_49/wB97M_10023806/wB97M_10023806.out\n",
      "/home/aweiland/comparing_theories/DFT/wB97mv/final_run/outputs/batch_18/wB97M_20191676/wB97M_20191676.out\n",
      "/home/aweiland/comparing_theories/DFT/wB97mv/final_run/outputs/batch_58/wB97M_20100348/wB97M_20100348.out\n"
     ]
    }
   ],
   "source": [
    "import os\n",
    "output_dir = \"/home/aweiland/comparing_theories/DFT/wB97mv/final_run/outputs\"\n",
    "\n",
    "for dirpath, dirname, files in os.walk(output_dir):\n",
    "    for file in files:\n",
    "        skip = False\n",
    "        if file.endswith(\".out\"):\n",
    "            mol_id = file.strip(\".out\")\n",
    "            \n",
    "            file_path = os.path.join(dirpath, file)\n",
    "            xyz_file = f\"/home/aweiland/comparing_theories/DFT/wB97mv/final_run/xyz_files/{mol_id}.xyz\"\n",
    "\n",
    "            f = open(file_path, \"r\")\n",
    "\n",
    "            w = open(xyz_file, \"w\")\n",
    "\n",
    "\n",
    "            line = next(f)\n",
    "\n",
    "            while line is not None:\n",
    "                if \"HURRAY\" in line:\n",
    "                    break\n",
    "                try:\n",
    "                    line = next(f)\n",
    "                except StopIteration:\n",
    "    \n",
    "                    print(file_path)\n",
    "                    skip = True\n",
    "                    f.close()\n",
    "                    break\n",
    "            if skip:\n",
    "                continue\n",
    "\n",
    "\n",
    "            while line is not None:\n",
    "                if \"CARTESIAN COORDINATES (ANGSTROEM)\" in line:\n",
    "                    coords = []\n",
    "                    next(f)\n",
    "                    line = next(f)\n",
    "                    while not \"---\" in line:\n",
    "                        coords.append(line)\n",
    "                        line = next(f)\n",
    "                    f.close()\n",
    "                    coords = [x for x in coords if x != \"\\n\"]\n",
    "                    w = open(xyz_file, \"w\")\n",
    "                    w.write(str(len(coords)) + \"\\n\")\n",
    "                    w.write(\"\\n\")\n",
    "                    for coord in coords:\n",
    "                        w.write(coord)\n",
    "                    w.close()\n",
    "                    break\n",
    "                line = next(f)\n",
    "\n"
   ]
  },
  {
   "cell_type": "code",
   "execution_count": null,
   "id": "03248300-4a7f-4764-9196-cb9bf7a99481",
   "metadata": {},
   "outputs": [],
   "source": []
  }
 ],
 "metadata": {
  "kernelspec": {
   "display_name": "Python 3",
   "language": "python",
   "name": "python3"
  },
  "language_info": {
   "codemirror_mode": {
    "name": "ipython",
    "version": 3
   },
   "file_extension": ".py",
   "mimetype": "text/x-python",
   "name": "python",
   "nbconvert_exporter": "python",
   "pygments_lexer": "ipython3",
   "version": "3.8.8"
  }
 },
 "nbformat": 4,
 "nbformat_minor": 5
}
