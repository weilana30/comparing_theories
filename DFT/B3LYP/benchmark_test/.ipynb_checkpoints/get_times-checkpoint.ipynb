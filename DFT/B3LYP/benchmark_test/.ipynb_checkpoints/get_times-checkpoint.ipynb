{
 "cells": [
  {
   "cell_type": "code",
   "execution_count": 5,
   "id": "34c68919-9864-4cc9-94be-b264237aae1b",
   "metadata": {},
   "outputs": [],
   "source": [
    "import os\n",
    "import pandas as pd\n",
    "df = pd.DataFrame()\n",
    "df[\"mol_id\"] = None\n",
    "df[\"time\"] = None\n",
    "\n",
    "batch_dir = \"/home/aweiland/comparing_theories/DFT/B3LYP/benchmark_test/outputs/batch_0\"\n",
    "\n",
    "for subdir in os.listdir(batch_dir):\n",
    "    mol_id = subdir.strip(\"B3LYP_\").strip(\".inp\")\n",
    "    \n",
    "    time_path = os.path.join(batch_dir, subdir + \"/runtime.txt\")\n",
    "    f = open(time_path, \"r\")\n",
    "    lines = f.readlines()\n",
    "    f.close()\n",
    "    for line in lines:\n",
    "        if \"real\" in line:\n",
    "            time = line.split()[1].strip()\n",
    "            df.loc[len(df)] = [mol_id, time]\n",
    "            break\n"
   ]
  },
  {
   "cell_type": "code",
   "execution_count": 1,
   "id": "740a6f9e-0724-437b-8bdc-a76a21cefeff",
   "metadata": {},
   "outputs": [
    {
     "data": {
      "text/html": [
       "<div>\n",
       "<style scoped>\n",
       "    .dataframe tbody tr th:only-of-type {\n",
       "        vertical-align: middle;\n",
       "    }\n",
       "\n",
       "    .dataframe tbody tr th {\n",
       "        vertical-align: top;\n",
       "    }\n",
       "\n",
       "    .dataframe thead th {\n",
       "        text-align: right;\n",
       "    }\n",
       "</style>\n",
       "<table border=\"1\" class=\"dataframe\">\n",
       "  <thead>\n",
       "    <tr style=\"text-align: right;\">\n",
       "      <th></th>\n",
       "      <th>mol_id</th>\n",
       "      <th>time</th>\n",
       "    </tr>\n",
       "  </thead>\n",
       "  <tbody>\n",
       "  </tbody>\n",
       "</table>\n",
       "</div>"
      ],
      "text/plain": [
       "Empty DataFrame\n",
       "Columns: [mol_id, time]\n",
       "Index: []"
      ]
     },
     "execution_count": 1,
     "metadata": {},
     "output_type": "execute_result"
    }
   ],
   "source": [
    "import pandas as pd\n",
    "df = pd.DataFrame()\n",
    "df[\"mol_id\"] = None\n",
    "df[\"time\"] = None\n",
    "df.head()"
   ]
  },
  {
   "cell_type": "code",
   "execution_count": 6,
   "id": "c7c0af25-e8ca-45bd-9741-f88026261312",
   "metadata": {},
   "outputs": [
    {
     "data": {
      "text/html": [
       "<div>\n",
       "<style scoped>\n",
       "    .dataframe tbody tr th:only-of-type {\n",
       "        vertical-align: middle;\n",
       "    }\n",
       "\n",
       "    .dataframe tbody tr th {\n",
       "        vertical-align: top;\n",
       "    }\n",
       "\n",
       "    .dataframe thead th {\n",
       "        text-align: right;\n",
       "    }\n",
       "</style>\n",
       "<table border=\"1\" class=\"dataframe\">\n",
       "  <thead>\n",
       "    <tr style=\"text-align: right;\">\n",
       "      <th></th>\n",
       "      <th>mol_id</th>\n",
       "      <th>time</th>\n",
       "    </tr>\n",
       "  </thead>\n",
       "  <tbody>\n",
       "    <tr>\n",
       "      <th>0</th>\n",
       "      <td>20218187</td>\n",
       "      <td>514.15</td>\n",
       "    </tr>\n",
       "    <tr>\n",
       "      <th>1</th>\n",
       "      <td>20200027</td>\n",
       "      <td>344.38</td>\n",
       "    </tr>\n",
       "    <tr>\n",
       "      <th>2</th>\n",
       "      <td>76490</td>\n",
       "      <td>1049.73</td>\n",
       "    </tr>\n",
       "    <tr>\n",
       "      <th>3</th>\n",
       "      <td>20227461</td>\n",
       "      <td>1108.05</td>\n",
       "    </tr>\n",
       "    <tr>\n",
       "      <th>4</th>\n",
       "      <td>2021289</td>\n",
       "      <td>906.68</td>\n",
       "    </tr>\n",
       "  </tbody>\n",
       "</table>\n",
       "</div>"
      ],
      "text/plain": [
       "     mol_id     time\n",
       "0  20218187   514.15\n",
       "1  20200027   344.38\n",
       "2     76490  1049.73\n",
       "3  20227461  1108.05\n",
       "4   2021289   906.68"
      ]
     },
     "execution_count": 6,
     "metadata": {},
     "output_type": "execute_result"
    }
   ],
   "source": [
    "df.head()"
   ]
  },
  {
   "cell_type": "code",
   "execution_count": 8,
   "id": "53f39051-e47c-4dac-8387-5be25b381dc2",
   "metadata": {},
   "outputs": [],
   "source": [
    "df.to_csv(\"B3LYP_times.csv\")"
   ]
  },
  {
   "cell_type": "code",
   "execution_count": null,
   "id": "12bdce03-d2a7-4dbb-b3d0-6c4c4d720c44",
   "metadata": {},
   "outputs": [],
   "source": []
  }
 ],
 "metadata": {
  "kernelspec": {
   "display_name": "Python 3",
   "language": "python",
   "name": "python3"
  },
  "language_info": {
   "codemirror_mode": {
    "name": "ipython",
    "version": 3
   },
   "file_extension": ".py",
   "mimetype": "text/x-python",
   "name": "python",
   "nbconvert_exporter": "python",
   "pygments_lexer": "ipython3",
   "version": "3.8.8"
  }
 },
 "nbformat": 4,
 "nbformat_minor": 5
}
