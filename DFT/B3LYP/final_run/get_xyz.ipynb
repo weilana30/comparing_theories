{
 "cells": [
  {
   "cell_type": "code",
   "execution_count": 1,
   "id": "faa5648f-e902-4ceb-bf90-6933e660fc7f",
   "metadata": {},
   "outputs": [
    {
     "name": "stdout",
     "output_type": "stream",
     "text": [
      "/home/aweiland/comparing_theories/DFT/B3LYP/final_run/outputs/batch_23/B3LYP_10023806/B3LYP_10023806.out\n",
      "/home/aweiland/comparing_theories/DFT/B3LYP/final_run/outputs/batch_54/B3LYP_20191676/B3LYP_20191676.out\n",
      "/home/aweiland/comparing_theories/DFT/B3LYP/final_run/outputs/batch_33/B3LYP_2590/B3LYP_2590.out\n",
      "/home/aweiland/comparing_theories/DFT/B3LYP/final_run/outputs/batch_12/B3LYP_20092122/B3LYP_20092122.out\n",
      "/home/aweiland/comparing_theories/DFT/B3LYP/final_run/outputs/batch_22/B3LYP_20100348/B3LYP_20100348.out\n",
      "/home/aweiland/comparing_theories/DFT/B3LYP/final_run/outputs/batch_31/B3LYP_20230456/B3LYP_20230456.out\n"
     ]
    }
   ],
   "source": [
    "import os\n",
    "output_dir = \"/home/aweiland/comparing_theories/DFT/B3LYP/final_run/outputs\"\n",
    "\n",
    "for dirpath, dirname, files in os.walk(output_dir):\n",
    "    for file in files:\n",
    "        skip = False\n",
    "        if file.endswith(\".out\"):\n",
    "            mol_id = file.strip(\".out\")\n",
    "            \n",
    "            file_path = os.path.join(dirpath, file)\n",
    "            xyz_file = f\"/home/aweiland/comparing_theories/DFT/B3LYP/final_run/xyz_files/{mol_id}.xyz\"\n",
    "\n",
    "            f = open(file_path, \"r\")\n",
    "\n",
    "            w = open(xyz_file, \"w\")\n",
    "\n",
    "\n",
    "            line = next(f)\n",
    "\n",
    "            while line is not None:\n",
    "                if \"HURRAY\" in line:\n",
    "                    break\n",
    "                try:\n",
    "                    line = next(f)\n",
    "                except StopIteration:\n",
    "    \n",
    "                    print(file_path)\n",
    "                    skip = True\n",
    "                    f.close()\n",
    "                    break\n",
    "            if skip:\n",
    "                continue\n",
    "\n",
    "\n",
    "            while line is not None:\n",
    "                if \"CARTESIAN COORDINATES (ANGSTROEM)\" in line:\n",
    "                    coords = []\n",
    "                    next(f)\n",
    "                    line = next(f)\n",
    "                    while not \"---\" in line:\n",
    "                        coords.append(line)\n",
    "                        line = next(f)\n",
    "                    f.close()\n",
    "                    coords = [x for x in coords if x != \"\\n\"]\n",
    "                    w = open(xyz_file, \"w\")\n",
    "                    w.write(str(len(coords)) + \"\\n\")\n",
    "                    w.write(\"\\n\")\n",
    "                    for coord in coords:\n",
    "                        w.write(coord)\n",
    "                    w.close()\n",
    "                    break\n",
    "                line = next(f)\n",
    "\n"
   ]
  },
  {
   "cell_type": "code",
   "execution_count": null,
   "id": "7bc3b01e-01ee-485d-a3ac-b0e745fe41c5",
   "metadata": {},
   "outputs": [],
   "source": []
  }
 ],
 "metadata": {
  "kernelspec": {
   "display_name": "Python 3",
   "language": "python",
   "name": "python3"
  },
  "language_info": {
   "codemirror_mode": {
    "name": "ipython",
    "version": 3
   },
   "file_extension": ".py",
   "mimetype": "text/x-python",
   "name": "python",
   "nbconvert_exporter": "python",
   "pygments_lexer": "ipython3",
   "version": "3.8.8"
  }
 },
 "nbformat": 4,
 "nbformat_minor": 5
}
