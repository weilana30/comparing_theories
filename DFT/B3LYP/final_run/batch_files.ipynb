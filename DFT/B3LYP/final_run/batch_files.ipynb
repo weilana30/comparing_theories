{
 "cells": [
  {
   "cell_type": "code",
   "execution_count": 1,
   "id": "4096932b-5112-4294-b90b-58f1aae57e14",
   "metadata": {},
   "outputs": [],
   "source": [
    "import os\n",
    "import shutil\n",
    "\n",
    "all_files = \"/home/aweiland/comparing_theories/DFT/B3LYP/input_files\"\n",
    "\n",
    "batch_size = 84\n",
    "\n",
    "output_directory = \"/home/aweiland/comparing_theories/DFT/B3LYP/final_run/batches\"\n",
    "\n",
    "current_batch = 0\n",
    "\n",
    "current_mol = 0\n",
    "\n",
    "batch_directory = None\n",
    "\n",
    "for file in os.listdir(all_files):\n",
    "    if current_mol == 0:\n",
    "        batch_directory = os.path.join(output_directory, f\"batch_{current_batch}\")\n",
    "        \n",
    "        os.makedirs(batch_directory)\n",
    "        \n",
    "    file_path = os.path.join(all_files, file)\n",
    "    shutil.move(file_path, batch_directory)\n",
    "    current_mol += 1\n",
    "    \n",
    "    if current_mol == batch_size:\n",
    "        current_mol = 0\n",
    "        current_batch += 1\n",
    "\n"
   ]
  },
  {
   "cell_type": "code",
   "execution_count": null,
   "id": "79a4def0-5972-47c3-a49c-1a47871ba2fc",
   "metadata": {},
   "outputs": [],
   "source": []
  }
 ],
 "metadata": {
  "kernelspec": {
   "display_name": "Python 3",
   "language": "python",
   "name": "python3"
  },
  "language_info": {
   "codemirror_mode": {
    "name": "ipython",
    "version": 3
   },
   "file_extension": ".py",
   "mimetype": "text/x-python",
   "name": "python",
   "nbconvert_exporter": "python",
   "pygments_lexer": "ipython3",
   "version": "3.8.8"
  }
 },
 "nbformat": 4,
 "nbformat_minor": 5
}
