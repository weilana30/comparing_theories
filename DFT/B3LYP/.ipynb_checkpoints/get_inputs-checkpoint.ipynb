{
 "cells": [
  {
   "cell_type": "code",
   "execution_count": 1,
   "id": "64f5c611-5e36-45d9-b4cc-d8970275e04e",
   "metadata": {},
   "outputs": [],
   "source": [
    "import os\n",
    "import shutil\n",
    "\n",
    "xyz_files = \"/home/aweiland/comparing_theories/dft_geometries/5k_mols\"\n",
    "\n",
    "output_path = \"/home/aweiland/comparing_theories/DFT/B3LYP/input_files\"\n",
    "\n",
    "\n",
    "for file in os.listdir(xyz_files):\n",
    "    if file.endswith(\".xyz\"):\n",
    "        file_num = file.strip(\"dft_\").strip(\".xyz\")\n",
    "        file_path = os.path.join(xyz_files, file)\n",
    "        f = open(file_path, \"r\")\n",
    "        coords = f.readlines()[2:]\n",
    "        f.close()\n",
    "\n",
    "        new_file = \"B3LYP_\" + file_num + \".inp\"\n",
    "        new_file_path = os.path.join(output_path, new_file)\n",
    "        writer = open(new_file_path, \"w\")\n",
    "        writer.write(\"! B3LYP D4 def2-TZVP OPT FREQ\\n\")\n",
    "        writer.write(\"%pal\\n\")\n",
    "        writer.write(\"   nprocs 16\\n\")\n",
    "        writer.write(\"end\\n\\n\")\n",
    "        writer.write(\"%maxcore 2000\\n\\n\")\n",
    "        writer.write(\"* xyz 0 1\\n\")\n",
    "        writer.writelines(coords)\n",
    "        writer.write(\"*\\n\")\n",
    "        writer.close()\n",
    "    \n",
    "    \n",
    "    "
   ]
  },
  {
   "cell_type": "code",
   "execution_count": null,
   "id": "74b60d81-d51e-4b80-929a-0a9e6b8039df",
   "metadata": {},
   "outputs": [],
   "source": []
  }
 ],
 "metadata": {
  "kernelspec": {
   "display_name": "Python 3",
   "language": "python",
   "name": "python3"
  },
  "language_info": {
   "codemirror_mode": {
    "name": "ipython",
    "version": 3
   },
   "file_extension": ".py",
   "mimetype": "text/x-python",
   "name": "python",
   "nbconvert_exporter": "python",
   "pygments_lexer": "ipython3",
   "version": "3.8.8"
  }
 },
 "nbformat": 4,
 "nbformat_minor": 5
}
